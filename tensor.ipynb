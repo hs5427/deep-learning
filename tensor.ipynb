{
 "cells": [
  {
   "cell_type": "markdown",
   "metadata": {},
   "source": [
    "## Tensorの基礎"
   ]
  },
  {
   "cell_type": "code",
   "execution_count": 16,
   "metadata": {},
   "outputs": [],
   "source": [
    "import torch\n",
    "import numpy as np"
   ]
  },
  {
   "cell_type": "markdown",
   "metadata": {},
   "source": [
    "### tensor作成"
   ]
  },
  {
   "cell_type": "code",
   "execution_count": 18,
   "metadata": {},
   "outputs": [
    {
     "data": {
      "text/plain": [
       "tensor([1., 2., 3., 4.], dtype=torch.float64)"
      ]
     },
     "execution_count": 18,
     "metadata": {},
     "output_type": "execute_result"
    }
   ],
   "source": [
    "my_list = [1, 2, 3, 4]\n",
    "tensor_from_list = torch.tensor(my_list, dtype=torch.float64)\n",
    "tensor_from_list"
   ]
  },
  {
   "cell_type": "code",
   "execution_count": 19,
   "metadata": {},
   "outputs": [
    {
     "data": {
      "text/plain": [
       "tensor([[0., 0., 0.],\n",
       "        [0., 0., 0.]])"
      ]
     },
     "execution_count": 19,
     "metadata": {},
     "output_type": "execute_result"
    }
   ],
   "source": [
    "zeroes_tensor = torch.zeros((2, 3))\n",
    "zeroes_tensor"
   ]
  },
  {
   "cell_type": "code",
   "execution_count": 20,
   "metadata": {},
   "outputs": [
    {
     "data": {
      "text/plain": [
       "tensor([[1., 1., 1.],\n",
       "        [1., 1., 1.]])"
      ]
     },
     "execution_count": 20,
     "metadata": {},
     "output_type": "execute_result"
    }
   ],
   "source": [
    "ones_tensor = torch.ones((2, 3))\n",
    "ones_tensor"
   ]
  },
  {
   "cell_type": "code",
   "execution_count": 21,
   "metadata": {},
   "outputs": [
    {
     "data": {
      "text/plain": [
       "tensor([[1., 0., 0.],\n",
       "        [0., 1., 0.],\n",
       "        [0., 0., 1.]])"
      ]
     },
     "execution_count": 21,
     "metadata": {},
     "output_type": "execute_result"
    }
   ],
   "source": [
    "eye_tensor = torch.eye(3)\n",
    "eye_tensor"
   ]
  },
  {
   "cell_type": "code",
   "execution_count": 22,
   "metadata": {},
   "outputs": [
    {
     "data": {
      "text/plain": [
       "tensor([[0.8823, 0.9150, 0.3829],\n",
       "        [0.9593, 0.3904, 0.6009]])"
      ]
     },
     "execution_count": 22,
     "metadata": {},
     "output_type": "execute_result"
    }
   ],
   "source": [
    "torch.manual_seed(42)   # 乱数固定\n",
    "random_tensor = torch.rand((2, 3))\n",
    "random_tensor"
   ]
  },
  {
   "cell_type": "markdown",
   "metadata": {},
   "source": [
    "### tensorの操作"
   ]
  },
  {
   "cell_type": "code",
   "execution_count": 25,
   "metadata": {},
   "outputs": [
    {
     "data": {
      "text/plain": [
       "tensor([[[0.9516, 0.0753, 0.8860, 0.5832],\n",
       "         [0.3376, 0.8090, 0.5779, 0.9040],\n",
       "         [0.5547, 0.3423, 0.6343, 0.3644]],\n",
       "\n",
       "        [[0.7104, 0.9464, 0.7890, 0.2814],\n",
       "         [0.7886, 0.5895, 0.7539, 0.1952],\n",
       "         [0.0050, 0.3068, 0.1165, 0.9103]]])"
      ]
     },
     "execution_count": 25,
     "metadata": {},
     "output_type": "execute_result"
    }
   ],
   "source": [
    "tensor_example = torch.rand((2, 3, 4))\n",
    "tensor_example"
   ]
  },
  {
   "cell_type": "code",
   "execution_count": 26,
   "metadata": {},
   "outputs": [
    {
     "data": {
      "text/plain": [
       "tensor([[[0.9516, 0.0753, 0.8860, 0.5832],\n",
       "         [0.7104, 0.9464, 0.7890, 0.2814]],\n",
       "\n",
       "        [[0.3376, 0.8090, 0.5779, 0.9040],\n",
       "         [0.7886, 0.5895, 0.7539, 0.1952]],\n",
       "\n",
       "        [[0.5547, 0.3423, 0.6343, 0.3644],\n",
       "         [0.0050, 0.3068, 0.1165, 0.9103]]])"
      ]
     },
     "execution_count": 26,
     "metadata": {},
     "output_type": "execute_result"
    }
   ],
   "source": [
    "# 転置\n",
    "permuted_tensor = torch.permute(tensor_example, (1, 0, 2))\n",
    "permuted_tensor"
   ]
  },
  {
   "cell_type": "code",
   "execution_count": 27,
   "metadata": {},
   "outputs": [
    {
     "data": {
      "text/plain": [
       "tensor([[[0.9516, 0.0753, 0.8860, 0.5832],\n",
       "         [0.7104, 0.9464, 0.7890, 0.2814]],\n",
       "\n",
       "        [[0.3376, 0.8090, 0.5779, 0.9040],\n",
       "         [0.7886, 0.5895, 0.7539, 0.1952]],\n",
       "\n",
       "        [[0.5547, 0.3423, 0.6343, 0.3644],\n",
       "         [0.0050, 0.3068, 0.1165, 0.9103]]])"
      ]
     },
     "execution_count": 27,
     "metadata": {},
     "output_type": "execute_result"
    }
   ],
   "source": [
    "# 転置(2軸の入れ替え)\n",
    "transposed_tensor = torch.transpose(tensor_example, 0, 1)   # rank0とrank1を入れ替え\n",
    "transposed_tensor"
   ]
  },
  {
   "cell_type": "code",
   "execution_count": 28,
   "metadata": {},
   "outputs": [
    {
     "data": {
      "text/plain": [
       "tensor([[0.9516, 0.0753, 0.8860, 0.5832],\n",
       "        [0.3376, 0.8090, 0.5779, 0.9040],\n",
       "        [0.5547, 0.3423, 0.6343, 0.3644],\n",
       "        [0.7104, 0.9464, 0.7890, 0.2814],\n",
       "        [0.7886, 0.5895, 0.7539, 0.1952],\n",
       "        [0.0050, 0.3068, 0.1165, 0.9103]])"
      ]
     },
     "execution_count": 28,
     "metadata": {},
     "output_type": "execute_result"
    }
   ],
   "source": [
    "# reshape\n",
    "reshaped_tensor = torch.reshape(tensor_example, (6, 4))\n",
    "reshaped_tensor"
   ]
  },
  {
   "cell_type": "code",
   "execution_count": 34,
   "metadata": {},
   "outputs": [
    {
     "data": {
      "text/plain": [
       "True"
      ]
     },
     "execution_count": 34,
     "metadata": {},
     "output_type": "execute_result"
    }
   ],
   "source": [
    "# メモリが連続か確認\n",
    "tensor_example.is_contiguous()"
   ]
  },
  {
   "cell_type": "code",
   "execution_count": 38,
   "metadata": {},
   "outputs": [
    {
     "data": {
      "text/plain": [
       "tensor([0.9516, 0.0753, 0.8860, 0.5832, 0.3376, 0.8090, 0.5779, 0.9040, 0.5547,\n",
       "        0.3423, 0.6343, 0.3644, 0.7104, 0.9464, 0.7890, 0.2814, 0.7886, 0.5895,\n",
       "        0.7539, 0.1952, 0.0050, 0.3068, 0.1165, 0.9103])"
      ]
     },
     "execution_count": 38,
     "metadata": {},
     "output_type": "execute_result"
    }
   ],
   "source": [
    "# view(同様にreshapeするがメモリが連続の場合のみ)\n",
    "viewed_tensor = tensor_example.view(-1)\n",
    "viewed_tensor"
   ]
  },
  {
   "cell_type": "code",
   "execution_count": 36,
   "metadata": {},
   "outputs": [
    {
     "data": {
      "text/plain": [
       "tensor([0.9516, 0.0753, 0.8860, 0.5832, 0.3376, 0.8090, 0.5779, 0.9040, 0.5547,\n",
       "        0.3423, 0.6343, 0.3644, 0.7104, 0.9464, 0.7890, 0.2814, 0.7886, 0.5895,\n",
       "        0.7539, 0.1952, 0.0050, 0.3068, 0.1165, 0.9103])"
      ]
     },
     "execution_count": 36,
     "metadata": {},
     "output_type": "execute_result"
    }
   ],
   "source": [
    "# 多次元を1次元に\n",
    "flatten_tensor = torch.flatten(tensor_example)\n",
    "flatten_tensor"
   ]
  },
  {
   "cell_type": "code",
   "execution_count": 41,
   "metadata": {},
   "outputs": [
    {
     "name": "stdout",
     "output_type": "stream",
     "text": [
      "torch.Size([1, 3, 1])\n",
      "torch.Size([3])\n"
     ]
    }
   ],
   "source": [
    "# squeeze\n",
    "tensor_example = torch.tensor([[[1], [2], [3]]])\n",
    "print(tensor_example.shape)\n",
    "squeezed_tensor = torch.squeeze(tensor_example)\n",
    "print(squeezed_tensor.shape)"
   ]
  },
  {
   "cell_type": "code",
   "execution_count": 44,
   "metadata": {},
   "outputs": [
    {
     "name": "stdout",
     "output_type": "stream",
     "text": [
      "torch.Size([1, 3, 1])\n",
      "torch.Size([1, 1, 3, 1])\n"
     ]
    }
   ],
   "source": [
    "# unsqueeze\n",
    "print(tensor_example.shape)\n",
    "unsqueezed_tensor = torch.unsqueeze(tensor_example, 0)\n",
    "print(unsqueezed_tensor.shape)"
   ]
  },
  {
   "cell_type": "markdown",
   "metadata": {},
   "source": [
    "### tensorの便利関数"
   ]
  },
  {
   "cell_type": "code",
   "execution_count": 45,
   "metadata": {},
   "outputs": [
    {
     "data": {
      "text/plain": [
       "tensor([[0.6440, 0.7071, 0.6581],\n",
       "        [0.4913, 0.8913, 0.1447]])"
      ]
     },
     "execution_count": 45,
     "metadata": {},
     "output_type": "execute_result"
    }
   ],
   "source": [
    "tensor_example = torch.rand((2, 3))\n",
    "tensor_example"
   ]
  },
  {
   "cell_type": "code",
   "execution_count": 46,
   "metadata": {},
   "outputs": [
    {
     "data": {
      "text/plain": [
       "tensor(3.5366)"
      ]
     },
     "execution_count": 46,
     "metadata": {},
     "output_type": "execute_result"
    }
   ],
   "source": [
    "# 合計\n",
    "torch.sum(tensor_example)"
   ]
  },
  {
   "cell_type": "code",
   "execution_count": 47,
   "metadata": {},
   "outputs": [
    {
     "data": {
      "text/plain": [
       "tensor(0.5894)"
      ]
     },
     "execution_count": 47,
     "metadata": {},
     "output_type": "execute_result"
    }
   ],
   "source": [
    "# 平均\n",
    "torch.mean(tensor_example)"
   ]
  },
  {
   "cell_type": "code",
   "execution_count": 48,
   "metadata": {},
   "outputs": [
    {
     "data": {
      "text/plain": [
       "tensor([[0.8025, 0.8409, 0.8113],\n",
       "        [0.7009, 0.9441, 0.3805]])"
      ]
     },
     "execution_count": 48,
     "metadata": {},
     "output_type": "execute_result"
    }
   ],
   "source": [
    "# 平方根\n",
    "torch.sqrt(tensor_example)"
   ]
  },
  {
   "cell_type": "code",
   "execution_count": 49,
   "metadata": {},
   "outputs": [
    {
     "data": {
      "text/plain": [
       "3.53660249710083"
      ]
     },
     "execution_count": 49,
     "metadata": {},
     "output_type": "execute_result"
    }
   ],
   "source": [
    "# 中身を取り出す\n",
    "torch.sum(tensor_example).item()"
   ]
  },
  {
   "cell_type": "markdown",
   "metadata": {},
   "source": [
    "### 行列の演算"
   ]
  },
  {
   "cell_type": "code",
   "execution_count": 50,
   "metadata": {},
   "outputs": [],
   "source": [
    "# 加減+要素ごとの乗除(アダマール積)\n",
    "a = torch.rand((3, 3))\n",
    "b = torch.rand((3, 3))"
   ]
  },
  {
   "cell_type": "code",
   "execution_count": 51,
   "metadata": {},
   "outputs": [
    {
     "data": {
      "text/plain": [
       "tensor([[0.7333, 1.1085, 1.3208],\n",
       "        [1.3089, 0.7406, 0.3999],\n",
       "        [1.0235, 0.3673, 0.9043]])"
      ]
     },
     "execution_count": 51,
     "metadata": {},
     "output_type": "execute_result"
    }
   ],
   "source": [
    "a + b"
   ]
  },
  {
   "cell_type": "code",
   "execution_count": 52,
   "metadata": {},
   "outputs": [
    {
     "data": {
      "text/plain": [
       "tensor([[ 0.3297, -0.7910, -0.0124],\n",
       "        [-0.6533,  0.5658,  0.3918],\n",
       "        [ 0.8059,  0.0400, -0.5007]])"
      ]
     },
     "execution_count": 52,
     "metadata": {},
     "output_type": "execute_result"
    }
   ],
   "source": [
    "a - b"
   ]
  },
  {
   "cell_type": "code",
   "execution_count": 53,
   "metadata": {},
   "outputs": [
    {
     "data": {
      "text/plain": [
       "tensor([[0.1072, 0.1507, 0.4361],\n",
       "        [0.3216, 0.0571, 0.0016],\n",
       "        [0.0995, 0.0333, 0.1418]])"
      ]
     },
     "execution_count": 53,
     "metadata": {},
     "output_type": "execute_result"
    }
   ],
   "source": [
    "a * b"
   ]
  },
  {
   "cell_type": "code",
   "execution_count": 54,
   "metadata": {},
   "outputs": [
    {
     "data": {
      "text/plain": [
       "tensor([[ 2.6339,  0.1671,  0.9813],\n",
       "        [ 0.3341,  7.4770, 97.4484],\n",
       "        [ 8.4057,  1.2444,  0.2873]])"
      ]
     },
     "execution_count": 54,
     "metadata": {},
     "output_type": "execute_result"
    }
   ],
   "source": [
    "a / b"
   ]
  },
  {
   "cell_type": "code",
   "execution_count": 55,
   "metadata": {},
   "outputs": [
    {
     "data": {
      "text/plain": [
       "tensor([[0.3342, 0.6257, 0.8145],\n",
       "        [0.7501, 0.4332, 0.4993],\n",
       "        [0.4063, 0.9195, 0.7524]])"
      ]
     },
     "execution_count": 55,
     "metadata": {},
     "output_type": "execute_result"
    }
   ],
   "source": [
    "# 内積\n",
    "torch.mm(a, b)"
   ]
  },
  {
   "cell_type": "code",
   "execution_count": 56,
   "metadata": {},
   "outputs": [
    {
     "data": {
      "text/plain": [
       "tensor([[0.3342, 0.6257, 0.8145],\n",
       "        [0.7501, 0.4332, 0.4993],\n",
       "        [0.4063, 0.9195, 0.7524]])"
      ]
     },
     "execution_count": 56,
     "metadata": {},
     "output_type": "execute_result"
    }
   ],
   "source": [
    "torch.matmul(a, b)"
   ]
  },
  {
   "cell_type": "code",
   "execution_count": 57,
   "metadata": {},
   "outputs": [
    {
     "data": {
      "text/plain": [
       "tensor([[0.3342, 0.6257, 0.8145],\n",
       "        [0.7501, 0.4332, 0.4993],\n",
       "        [0.4063, 0.9195, 0.7524]])"
      ]
     },
     "execution_count": 57,
     "metadata": {},
     "output_type": "execute_result"
    }
   ],
   "source": [
    "a @ b"
   ]
  },
  {
   "cell_type": "code",
   "execution_count": null,
   "metadata": {},
   "outputs": [],
   "source": []
  }
 ],
 "metadata": {
  "kernelspec": {
   "display_name": "ds_conda_env",
   "language": "python",
   "name": "python3"
  },
  "language_info": {
   "codemirror_mode": {
    "name": "ipython",
    "version": 3
   },
   "file_extension": ".py",
   "mimetype": "text/x-python",
   "name": "python",
   "nbconvert_exporter": "python",
   "pygments_lexer": "ipython3",
   "version": "3.8.18"
  }
 },
 "nbformat": 4,
 "nbformat_minor": 2
}
