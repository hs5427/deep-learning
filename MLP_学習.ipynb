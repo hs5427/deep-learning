{
 "cells": [
  {
   "cell_type": "markdown",
   "metadata": {},
   "source": [
    "### ライブラリ"
   ]
  },
  {
   "cell_type": "code",
   "execution_count": 70,
   "metadata": {},
   "outputs": [],
   "source": [
    "import matplotlib.pyplot as plt\n",
    "from sklearn import datasets\n",
    "\n",
    "import torch\n",
    "from torch import nn\n",
    "import torch.optim as optim\n",
    "from torch.optim.lr_scheduler import StepLR, CosineAnnealingLR\n",
    "import torch.nn.functional as F\n",
    "from torch.utils.data import DataLoader, Dataset\n",
    "\n",
    "import torchvision\n",
    "from torchvision import transforms"
   ]
  },
  {
   "cell_type": "markdown",
   "metadata": {},
   "source": [
    "### Learning Rate Finder"
   ]
  },
  {
   "cell_type": "code",
   "execution_count": 67,
   "metadata": {},
   "outputs": [],
   "source": [
    "def learning_rate_finder(model, train_loader, los_func, lr_multiplier=1.2):\n",
    "\n",
    "    lr = 1e-5\n",
    "    max_lr = 10\n",
    "    opt = torch.optim.SGD(model.parameters(), lr=lr)\n",
    "    losses = []\n",
    "    lrs = []\n",
    "\n",
    "    for train_batch, data in enumerate(train_loader):\n",
    "\n",
    "        # get data\n",
    "        X, y = data\n",
    "        opt.zero_grad()\n",
    "\n",
    "        # forward\n",
    "        preds = model(X)\n",
    "\n",
    "        # calculate loss\n",
    "        loss = los_func(preds, y)\n",
    "        losses.append(loss.item())\n",
    "\n",
    "        # backward\n",
    "        loss.backward()\n",
    "        opt.step()\n",
    "\n",
    "        # increase learning rate\n",
    "        lrs.append(lr)\n",
    "        lr *= lr_multiplier\n",
    "        for param_group in opt.param_groups:\n",
    "            param_group['lr'] = lr\n",
    "        if lr > max_lr:\n",
    "            break\n",
    "\n",
    "    return lrs, losses"
   ]
  },
  {
   "cell_type": "code",
   "execution_count": 68,
   "metadata": {},
   "outputs": [],
   "source": [
    "# 前処理\n",
    "transform = transforms.Compose([\n",
    "    # 画像をテンソルに変換\n",
    "    transforms.ToTensor(),\n",
    "    # 画像のピクセル値を-1~1に正規化\n",
    "    transforms.Normalize((0.5,), (0.5,))\n",
    "])\n",
    "\n",
    "# データセットのダウンロード\n",
    "train_dataset = torchvision.datasets.MNIST(root='./data', train=True, transform=transform, download=True)\n",
    "\n",
    "# データローダーの作成\n",
    "batch_size = 10\n",
    "train_loader = torch.utils.data.DataLoader(dataset=train_dataset, batch_size=batch_size, shuffle=True)\n",
    "\n",
    "# アーキテクチャの定義\n",
    "class MLP(nn.Module):\n",
    "    def __init__(self, num_in, num_hidden, num_out):\n",
    "        super().__init__()\n",
    "        self.flatten = nn.Flatten()                 # [batch_size, channel, height, width] -> [batch_size, channel * height * width]\n",
    "        self.l1 = nn.Linear(num_in, num_hidden)\n",
    "        self.l2 = nn.Linear(num_hidden, num_out)\n",
    "\n",
    "    def forward(self, x):\n",
    "        x = self.flatten(x)\n",
    "        z1 = self.l1(x)\n",
    "        a1 = F.relu(z1)\n",
    "        x = self.l2(a1)\n",
    "        return x\n",
    "\n",
    "# モデルのインスタンス化\n",
    "model = MLP(28*28, 30, 10)"
   ]
  },
  {
   "cell_type": "code",
   "execution_count": 69,
   "metadata": {},
   "outputs": [
    {
     "data": {
      "image/png": "[encoded data removed]",
      "text/plain": [
       "<Figure size 640x480 with 1 Axes>"
      ]
     },
     "metadata": {},
     "output_type": "display_data"
    }
   ],
   "source": [
    "# 学習率の探索結果\n",
    "lrs, losses = learning_rate_finder(model, train_loader, F.cross_entropy, lr_multiplier=1.2)\n",
    "plt.plot(lrs, losses)\n",
    "plt.xscale('log')"
   ]
  },
  {
   "cell_type": "markdown",
   "metadata": {},
   "source": [
    "### Learning Rate Scheduler"
   ]
  },
  {
   "cell_type": "code",
   "execution_count": null,
   "metadata": {},
   "outputs": [],
   "source": [
    "model = MLP(28*28, 30, 10)\n",
    "opt = optim.SGD(model.parameters(), lr=1e-2)\n",
    "# StepLR\n",
    "scheduler = StepLR(opt, step_size=30, gamma=0.1)"
   ]
  }
 ],
 "metadata": {
  "kernelspec": {
   "display_name": "ds_conda_env",
   "language": "python",
   "name": "python3"
  },
  "language_info": {
   "codemirror_mode": {
    "name": "ipython",
    "version": 3
   },
   "file_extension": ".py",
   "mimetype": "text/x-python",
   "name": "python",
   "nbconvert_exporter": "python",
   "pygments_lexer": "ipython3",
   "version": "3.8.18"
  }
 },
 "nbformat": 4,
 "nbformat_minor": 2
}
