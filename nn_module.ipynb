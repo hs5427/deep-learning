{
 "cells": [
  {
   "cell_type": "markdown",
   "metadata": {},
   "source": [
    "## torch.nnモジュール"
   ]
  },
  {
   "cell_type": "markdown",
   "metadata": {},
   "source": [
    "### nn.Linear"
   ]
  },
  {
   "cell_type": "code",
   "execution_count": 54,
   "metadata": {},
   "outputs": [],
   "source": [
    "import torch\n",
    "from torch import nn\n",
    "import torch.nn.functional as F\n",
    "import numpy as np\n",
    "import matplotlib.pyplot as plt\n",
    "from sklearn import datasets\n",
    "from sklearn.model_selection import train_test_split"
   ]
  },
  {
   "cell_type": "code",
   "execution_count": 55,
   "metadata": {},
   "outputs": [],
   "source": [
    "linear = nn.Linear(64, 30)"
   ]
  },
  {
   "cell_type": "code",
   "execution_count": 56,
   "metadata": {},
   "outputs": [
    {
     "name": "stdout",
     "output_type": "stream",
     "text": [
      "torch.Size([30, 64])\n",
      "torch.Size([30])\n"
     ]
    }
   ],
   "source": [
    "print(linear.weight.shape)\n",
    "print(linear.bias.shape)"
   ]
  },
  {
   "cell_type": "markdown",
   "metadata": {},
   "source": [
    "### MLP実装"
   ]
  },
  {
   "cell_type": "code",
   "execution_count": 57,
   "metadata": {},
   "outputs": [],
   "source": [
    "# 1. nn.クラスとF.関数を組み合わせたケース\n",
    "class MLP(nn.Module):\n",
    "    def __init__(self, num_in, num_hidden, num_output):\n",
    "        super().__init__()\n",
    "        self.l1 = nn.Linear(num_in, num_hidden)\n",
    "        self.l2 = nn.Linear(num_hidden, num_output)\n",
    "\n",
    "    def forward(self, x):\n",
    "        z1 = self.l1(x)\n",
    "        a1 = F.relu(z1)\n",
    "        x = self.l2(a1)\n",
    "        return x"
   ]
  },
  {
   "cell_type": "code",
   "execution_count": 58,
   "metadata": {},
   "outputs": [
    {
     "data": {
      "text/plain": [
       "torch.Size([5, 10])"
      ]
     },
     "execution_count": 58,
     "metadata": {},
     "output_type": "execute_result"
    }
   ],
   "source": [
    "model = MLP(64, 30, 10)\n",
    "X = torch.randn(5, 64)\n",
    "Z = model(X)\n",
    "Z.shape"
   ]
  },
  {
   "cell_type": "code",
   "execution_count": 59,
   "metadata": {},
   "outputs": [],
   "source": [
    "# 2. nn.クラスのみで構成するケース\n",
    "class MLP(nn.Module):\n",
    "    def __init__(self, num_in, num_hidden, num_output):\n",
    "        super().__init__()\n",
    "        self.l1 = nn.Linear(num_in, num_hidden)\n",
    "        self.l2 = nn.Linear(num_hidden, num_output)\n",
    "        self.relu = nn.ReLU()\n",
    "\n",
    "    def forward(self, x):\n",
    "        z1 = self.l1(x)\n",
    "        a1 = self.relu(z1)\n",
    "        x = self.l2(a1)\n",
    "        return x"
   ]
  },
  {
   "cell_type": "code",
   "execution_count": 60,
   "metadata": {},
   "outputs": [
    {
     "data": {
      "text/plain": [
       "torch.Size([5, 10])"
      ]
     },
     "execution_count": 60,
     "metadata": {},
     "output_type": "execute_result"
    }
   ],
   "source": [
    "model = MLP(64, 30, 10)\n",
    "X = torch.randn(5, 64)\n",
    "Z = model(X)\n",
    "Z.shape"
   ]
  },
  {
   "cell_type": "code",
   "execution_count": 61,
   "metadata": {},
   "outputs": [],
   "source": [
    "# 3. Sequentialを使うケース\n",
    "num_in = 64\n",
    "num_hidden = 30\n",
    "num_output = 10\n",
    "\n",
    "model = nn.Sequential(\n",
    "    nn.Linear(num_in, num_hidden),\n",
    "    nn.ReLU(),\n",
    "    nn.Linear(num_hidden, num_output)\n",
    ")"
   ]
  },
  {
   "cell_type": "code",
   "execution_count": 62,
   "metadata": {},
   "outputs": [
    {
     "data": {
      "text/plain": [
       "torch.Size([5, 10])"
      ]
     },
     "execution_count": 62,
     "metadata": {},
     "output_type": "execute_result"
    }
   ],
   "source": [
    "X = torch.randn(5, 64)\n",
    "Z = model(X)\n",
    "Z.shape"
   ]
  },
  {
   "cell_type": "markdown",
   "metadata": {},
   "source": [
    "### MLP学習"
   ]
  },
  {
   "cell_type": "code",
   "execution_count": 74,
   "metadata": {},
   "outputs": [
    {
     "name": "stdout",
     "output_type": "stream",
     "text": [
      "epoch: 1: train_loss:2.29566324253877, val_loss:2.8574531078338623, val_acuraccy:0.24444444477558136\n",
      "epoch: 2: train_loss:2.1416722486416497, val_loss:2.3638179302215576, val_acuraccy:0.2888889014720917\n",
      "epoch: 3: train_loss:1.991808645427227, val_loss:2.0835726261138916, val_acuraccy:0.3055555522441864\n",
      "epoch: 4: train_loss:1.8249702801307042, val_loss:1.9045722484588623, val_acuraccy:0.34166666865348816\n",
      "epoch: 5: train_loss:1.644102764626344, val_loss:1.676748514175415, val_acuraccy:0.49166667461395264\n",
      "epoch: 6: train_loss:1.45730626086394, val_loss:1.4711564779281616, val_acuraccy:0.5638889074325562\n",
      "epoch: 7: train_loss:1.275830902159214, val_loss:1.2032097578048706, val_acuraccy:0.644444465637207\n",
      "epoch: 8: train_loss:1.1114468164741993, val_loss:1.0466339588165283, val_acuraccy:0.699999988079071\n",
      "epoch: 9: train_loss:0.968064870685339, val_loss:0.8643985986709595, val_acuraccy:0.7472222447395325\n",
      "epoch: 10: train_loss:0.8486840066810449, val_loss:0.7158066034317017, val_acuraccy:0.8138889074325562\n",
      "epoch: 11: train_loss:0.7483590245246887, val_loss:0.6172484755516052, val_acuraccy:0.8527777791023254\n",
      "epoch: 12: train_loss:0.6657321775952975, val_loss:0.5860427021980286, val_acuraccy:0.8583333492279053\n",
      "epoch: 13: train_loss:0.5971943649152914, val_loss:0.5589616298675537, val_acuraccy:0.8777777552604675\n",
      "epoch: 14: train_loss:0.540226807196935, val_loss:0.5204220414161682, val_acuraccy:0.8888888955116272\n",
      "epoch: 15: train_loss:0.4919226827720801, val_loss:0.5093440413475037, val_acuraccy:0.894444465637207\n",
      "epoch: 16: train_loss:0.45227001793682575, val_loss:0.4839611351490021, val_acuraccy:0.9083333611488342\n",
      "epoch: 17: train_loss:0.41815726303805906, val_loss:0.5096364617347717, val_acuraccy:0.9027777910232544\n",
      "epoch: 18: train_loss:0.3894258023550113, val_loss:0.495421439409256, val_acuraccy:0.9027777910232544\n",
      "epoch: 19: train_loss:0.36413430391500395, val_loss:0.4954850375652313, val_acuraccy:0.9027777910232544\n",
      "epoch: 20: train_loss:0.3428456140682101, val_loss:0.4983825385570526, val_acuraccy:0.9111111164093018\n",
      "epoch: 21: train_loss:0.3241664522017042, val_loss:0.4757610261440277, val_acuraccy:0.9111111164093018\n",
      "epoch: 22: train_loss:0.30716305940101546, val_loss:0.4846733510494232, val_acuraccy:0.9111111164093018\n",
      "epoch: 23: train_loss:0.2928904149060448, val_loss:0.4547607898712158, val_acuraccy:0.9166666865348816\n",
      "epoch: 24: train_loss:0.27955650196721155, val_loss:0.44776856899261475, val_acuraccy:0.9166666865348816\n",
      "epoch: 25: train_loss:0.2677464804922541, val_loss:0.45921579003334045, val_acuraccy:0.9194444417953491\n",
      "epoch: 26: train_loss:0.25724433610836667, val_loss:0.44106635451316833, val_acuraccy:0.9222221970558167\n",
      "epoch: 27: train_loss:0.24755297740921378, val_loss:0.4290044903755188, val_acuraccy:0.9222221970558167\n",
      "epoch: 28: train_loss:0.23901383640865484, val_loss:0.42822694778442383, val_acuraccy:0.9222221970558167\n",
      "epoch: 29: train_loss:0.2317625031185647, val_loss:0.4493121802806854, val_acuraccy:0.9222221970558167\n",
      "epoch: 30: train_loss:0.2239790967044731, val_loss:0.43592143058776855, val_acuraccy:0.925000011920929\n",
      "epoch: 31: train_loss:0.21704826084896922, val_loss:0.4377608299255371, val_acuraccy:0.925000011920929\n",
      "epoch: 32: train_loss:0.21075260158007345, val_loss:0.43588918447494507, val_acuraccy:0.925000011920929\n",
      "epoch: 33: train_loss:0.204848223986725, val_loss:0.4361970126628876, val_acuraccy:0.9277777671813965\n",
      "epoch: 34: train_loss:0.199793953448534, val_loss:0.4223516583442688, val_acuraccy:0.9305555820465088\n",
      "epoch: 35: train_loss:0.19436970073729753, val_loss:0.43688201904296875, val_acuraccy:0.9277777671813965\n",
      "epoch: 36: train_loss:0.18937535040701428, val_loss:0.4501173794269562, val_acuraccy:0.9305555820465088\n",
      "epoch: 37: train_loss:0.18522703810594976, val_loss:0.43444541096687317, val_acuraccy:0.9305555820465088\n",
      "epoch: 38: train_loss:0.1808678888094922, val_loss:0.4544336497783661, val_acuraccy:0.9333333373069763\n",
      "epoch: 39: train_loss:0.17729475225011507, val_loss:0.44159018993377686, val_acuraccy:0.9333333373069763\n",
      "epoch: 40: train_loss:0.17318376821155348, val_loss:0.45208099484443665, val_acuraccy:0.9333333373069763\n",
      "epoch: 41: train_loss:0.16953822675471505, val_loss:0.44032469391822815, val_acuraccy:0.9333333373069763\n",
      "epoch: 42: train_loss:0.16614379920065403, val_loss:0.45435792207717896, val_acuraccy:0.9333333373069763\n",
      "epoch: 43: train_loss:0.16352234097818533, val_loss:0.43280062079429626, val_acuraccy:0.9333333373069763\n",
      "epoch: 44: train_loss:0.1602227280382067, val_loss:0.4440349042415619, val_acuraccy:0.9333333373069763\n",
      "epoch: 45: train_loss:0.15723431521716216, val_loss:0.4427562654018402, val_acuraccy:0.9333333373069763\n",
      "epoch: 46: train_loss:0.15405237845455608, val_loss:0.4196845591068268, val_acuraccy:0.9388889074325562\n",
      "epoch: 47: train_loss:0.1518058169943591, val_loss:0.43409207463264465, val_acuraccy:0.9333333373069763\n",
      "epoch: 48: train_loss:0.14938439747008184, val_loss:0.4466191530227661, val_acuraccy:0.9333333373069763\n",
      "epoch: 49: train_loss:0.1466154858159522, val_loss:0.4675872027873993, val_acuraccy:0.9333333373069763\n",
      "epoch: 50: train_loss:0.1443965097423643, val_loss:0.46621567010879517, val_acuraccy:0.9361110925674438\n",
      "epoch: 51: train_loss:0.14225461535776654, val_loss:0.44724956154823303, val_acuraccy:0.9333333373069763\n",
      "epoch: 52: train_loss:0.13980605298032364, val_loss:0.4789964556694031, val_acuraccy:0.9333333373069763\n",
      "epoch: 53: train_loss:0.13793664379045367, val_loss:0.47007521986961365, val_acuraccy:0.9333333373069763\n",
      "epoch: 54: train_loss:0.13611011121732494, val_loss:0.48630785942077637, val_acuraccy:0.9333333373069763\n",
      "epoch: 55: train_loss:0.13393136711480716, val_loss:0.4643072485923767, val_acuraccy:0.9333333373069763\n",
      "epoch: 56: train_loss:0.13208329025655985, val_loss:0.4866710305213928, val_acuraccy:0.9333333373069763\n",
      "epoch: 57: train_loss:0.13035542711926004, val_loss:0.4999855160713196, val_acuraccy:0.9333333373069763\n",
      "epoch: 58: train_loss:0.12844780925661325, val_loss:0.48313525319099426, val_acuraccy:0.9333333373069763\n",
      "epoch: 59: train_loss:0.12684695034598312, val_loss:0.47995761036872864, val_acuraccy:0.9333333373069763\n",
      "epoch: 60: train_loss:0.12546662450768054, val_loss:0.47904354333877563, val_acuraccy:0.9333333373069763\n",
      "epoch: 61: train_loss:0.1235008161359777, val_loss:0.5009905099868774, val_acuraccy:0.9333333373069763\n",
      "epoch: 62: train_loss:0.12212355411611497, val_loss:0.5187163949012756, val_acuraccy:0.9333333373069763\n",
      "epoch: 63: train_loss:0.12059398911272486, val_loss:0.4795483946800232, val_acuraccy:0.9333333373069763\n",
      "epoch: 64: train_loss:0.11906831548549235, val_loss:0.48437392711639404, val_acuraccy:0.9361110925674438\n",
      "epoch: 65: train_loss:0.11766414064913988, val_loss:0.5100402235984802, val_acuraccy:0.9333333373069763\n",
      "epoch: 66: train_loss:0.11626840491468708, val_loss:0.5163612961769104, val_acuraccy:0.9333333373069763\n",
      "epoch: 67: train_loss:0.11486870236694813, val_loss:0.5065549612045288, val_acuraccy:0.9333333373069763\n",
      "epoch: 68: train_loss:0.11354059485408168, val_loss:0.5134989619255066, val_acuraccy:0.9333333373069763\n",
      "epoch: 69: train_loss:0.1124423638296624, val_loss:0.5106306076049805, val_acuraccy:0.9333333373069763\n",
      "epoch: 70: train_loss:0.1112780508895715, val_loss:0.5392889380455017, val_acuraccy:0.9333333373069763\n",
      "epoch: 71: train_loss:0.10987771232612431, val_loss:0.5301310420036316, val_acuraccy:0.9361110925674438\n",
      "epoch: 72: train_loss:0.10855806941011299, val_loss:0.5306602716445923, val_acuraccy:0.9361110925674438\n",
      "epoch: 73: train_loss:0.10712496982887387, val_loss:0.565653383731842, val_acuraccy:0.9305555820465088\n",
      "epoch: 74: train_loss:0.10629564143406849, val_loss:0.5084279775619507, val_acuraccy:0.9361110925674438\n",
      "epoch: 75: train_loss:0.10509033757261932, val_loss:0.5415850877761841, val_acuraccy:0.9361110925674438\n",
      "epoch: 76: train_loss:0.10412484682941188, val_loss:0.5344111323356628, val_acuraccy:0.9361110925674438\n",
      "epoch: 77: train_loss:0.10284346959087998, val_loss:0.5402259230613708, val_acuraccy:0.9333333373069763\n",
      "epoch: 78: train_loss:0.10154787691620488, val_loss:0.5216096043586731, val_acuraccy:0.9361110925674438\n",
      "epoch: 79: train_loss:0.10083510346400242, val_loss:0.5316956043243408, val_acuraccy:0.9333333373069763\n",
      "epoch: 80: train_loss:0.09992321650497615, val_loss:0.5435508489608765, val_acuraccy:0.9333333373069763\n",
      "epoch: 81: train_loss:0.09901328850537539, val_loss:0.559481680393219, val_acuraccy:0.9277777671813965\n",
      "epoch: 82: train_loss:0.09771490787776808, val_loss:0.558637261390686, val_acuraccy:0.9305555820465088\n",
      "epoch: 83: train_loss:0.09690369359062363, val_loss:0.5568608641624451, val_acuraccy:0.9277777671813965\n",
      "epoch: 84: train_loss:0.09593079534048836, val_loss:0.5909419655799866, val_acuraccy:0.9277777671813965\n",
      "epoch: 85: train_loss:0.0950437718226264, val_loss:0.5484488606452942, val_acuraccy:0.9277777671813965\n",
      "epoch: 86: train_loss:0.09410715638659894, val_loss:0.5422729253768921, val_acuraccy:0.9333333373069763\n",
      "epoch: 87: train_loss:0.09334339515771717, val_loss:0.5797803401947021, val_acuraccy:0.9305555820465088\n",
      "epoch: 88: train_loss:0.09264003640661637, val_loss:0.5857417583465576, val_acuraccy:0.9305555820465088\n",
      "epoch: 89: train_loss:0.09142045544770856, val_loss:0.5762367844581604, val_acuraccy:0.9277777671813965\n",
      "epoch: 90: train_loss:0.09067849135802437, val_loss:0.5660030245780945, val_acuraccy:0.9277777671813965\n",
      "epoch: 91: train_loss:0.08982740711265554, val_loss:0.5751294493675232, val_acuraccy:0.9277777671813965\n",
      "epoch: 92: train_loss:0.08905959979165345, val_loss:0.602514386177063, val_acuraccy:0.925000011920929\n",
      "epoch: 93: train_loss:0.08819581971814235, val_loss:0.5994756817817688, val_acuraccy:0.9277777671813965\n",
      "epoch: 94: train_loss:0.0875410902663134, val_loss:0.6088530421257019, val_acuraccy:0.9277777671813965\n",
      "epoch: 95: train_loss:0.08671823500966032, val_loss:0.640994668006897, val_acuraccy:0.9277777671813965\n",
      "epoch: 96: train_loss:0.08595641139739503, val_loss:0.6428419947624207, val_acuraccy:0.9277777671813965\n",
      "epoch: 97: train_loss:0.08528126000116269, val_loss:0.6104178428649902, val_acuraccy:0.9305555820465088\n",
      "epoch: 98: train_loss:0.08422271721065044, val_loss:0.6464203000068665, val_acuraccy:0.925000011920929\n",
      "epoch: 99: train_loss:0.08381539817977075, val_loss:0.6252915263175964, val_acuraccy:0.925000011920929\n",
      "epoch: 100: train_loss:0.08326865833563109, val_loss:0.6067698001861572, val_acuraccy:0.925000011920929\n"
     ]
    }
   ],
   "source": [
    "# 1. nn.クラスとF.関数を組み合わせたケース\n",
    "class MLP(nn.Module):\n",
    "    def __init__(self, num_in, num_hidden, num_output):\n",
    "        super().__init__()\n",
    "        self.l1 = nn.Linear(num_in, num_hidden)\n",
    "        self.l2 = nn.Linear(num_hidden, num_output)\n",
    "\n",
    "    def forward(self, x):\n",
    "        z1 = self.l1(x)\n",
    "        a1 = F.relu(z1)\n",
    "        x = self.l2(a1)\n",
    "        return x\n",
    "\n",
    "# 1. データロード\n",
    "dataset = datasets.load_digits()\n",
    "images = dataset['images']\n",
    "target = dataset['target']\n",
    "\n",
    "# 学習データと検証データに分割\n",
    "X_train, X_val, y_train, y_val = train_test_split(images, target, test_size=0.2, random_state=42)\n",
    "\n",
    "# 2. 前処理\n",
    "# 2-1. ラベルのonehotencoding\n",
    "y_train = torch.tensor(y_train)\n",
    "X_train = torch.tensor(X_train, dtype=torch.float32).reshape(-1, 64)\n",
    "y_val = torch.tensor(y_val)\n",
    "X_val = torch.tensor(X_val, dtype=torch.float32).reshape(-1, 64)\n",
    "\n",
    "# 2-2. 画像の標準化\n",
    "X_train = (X_train - X_train.mean()) / X_train.std()\n",
    "X_val = (X_val - X_train.mean()) / X_train.std()\n",
    "\n",
    "batch_size = 30\n",
    "num_batches = np.ceil(len(y_train) / batch_size).astype(int)\n",
    "learning_rate = 0.01\n",
    "epochs = 100\n",
    "\n",
    "# モデルの定義\n",
    "model = MLP(64, 30, 10)\n",
    "\n",
    "# ログ\n",
    "train_losses = []\n",
    "val_losses = []\n",
    "val_accuracies = []\n",
    "\n",
    "# 5. for文で学習ループ作成\n",
    "for epoch in range(epochs):\n",
    "\n",
    "    shuffled_indcies = np.random.permutation(len(y_train))   # データのindexをシャッフル\n",
    "    running_loss = 0.0\n",
    "\n",
    "    for i in range(num_batches):\n",
    "\n",
    "        # mini-batch作成\n",
    "        start = i * batch_size\n",
    "        end = start + batch_size\n",
    "        batch_indices = shuffled_indcies[start:end]\n",
    "\n",
    "        # 6. 入力データxおよび教師ラベルのYを作成\n",
    "        y = y_train[batch_indices]\n",
    "        X = X_train[batch_indices]\n",
    "\n",
    "\n",
    "        # 順伝播と逆伝播の計算\n",
    "        preds = model(X)\n",
    "        loss = F.cross_entropy(preds, y)\n",
    "        loss.backward()\n",
    "        running_loss += loss.item()\n",
    "\n",
    "        # パラメータ更新\n",
    "        with torch.no_grad():\n",
    "            for param in model.parameters():\n",
    "                param -= learning_rate * param.grad\n",
    "\n",
    "        model.zero_grad()\n",
    "\n",
    "    # validation\n",
    "    with torch.no_grad():\n",
    "        preds_val = model(X_val)\n",
    "        val_loss = F.cross_entropy(preds_val, y_val)\n",
    "        val_accuracy = torch.sum(torch.argmax(preds_val, dim=-1) == y_val) / y_val.shape[0]\n",
    "\n",
    "    train_losses.append(running_loss/num_batches)\n",
    "    val_losses.append(val_loss.item())\n",
    "    val_accuracies.append(val_accuracy.item())\n",
    "\n",
    "    \n",
    "    # 損失ログ出力\n",
    "    print(f'epoch: {epoch+1}: train_loss:{running_loss/num_batches}, val_loss:{val_loss.item()}, val_acuraccy:{val_accuracy.item()}')"
   ]
  },
  {
   "cell_type": "code",
   "execution_count": 75,
   "metadata": {},
   "outputs": [
    {
     "data": {
      "text/plain": [
       "[<matplotlib.lines.Line2D at 0x7fbbebddfc70>]"
      ]
     },
     "execution_count": 75,
     "metadata": {},
     "output_type": "execute_result"
    },
    {
     "data": {
      "image/png": "[encoded data removed]",
      "text/plain": [
       "<Figure size 640x480 with 1 Axes>"
      ]
     },
     "metadata": {},
     "output_type": "display_data"
    }
   ],
   "source": [
    "plt.plot(train_losses)\n",
    "plt.plot(val_losses)"
   ]
  },
  {
   "cell_type": "markdown",
   "metadata": {},
   "source": [
    "### パラメータのイテレーション"
   ]
  },
  {
   "cell_type": "code",
   "execution_count": 76,
   "metadata": {},
   "outputs": [
    {
     "data": {
      "text/plain": [
       "MLP(\n",
       "  (l1): Linear(in_features=64, out_features=30, bias=True)\n",
       "  (l2): Linear(in_features=30, out_features=10, bias=True)\n",
       ")"
      ]
     },
     "execution_count": 76,
     "metadata": {},
     "output_type": "execute_result"
    }
   ],
   "source": [
    "model"
   ]
  },
  {
   "cell_type": "code",
   "execution_count": 77,
   "metadata": {},
   "outputs": [
    {
     "name": "stdout",
     "output_type": "stream",
     "text": [
      "torch.Size([30, 64])\n",
      "torch.Size([30])\n",
      "torch.Size([10, 30])\n",
      "torch.Size([10])\n"
     ]
    }
   ],
   "source": [
    "for param in model.parameters():\n",
    "    print(param.shape)"
   ]
  },
  {
   "cell_type": "code",
   "execution_count": 78,
   "metadata": {},
   "outputs": [
    {
     "name": "stdout",
     "output_type": "stream",
     "text": [
      "l1.weight torch.Size([30, 64])\n",
      "l1.bias torch.Size([30])\n",
      "l2.weight torch.Size([10, 30])\n",
      "l2.bias torch.Size([10])\n"
     ]
    }
   ],
   "source": [
    "for name, param in model.named_parameters():\n",
    "    print(name, param.shape)"
   ]
  },
  {
   "cell_type": "markdown",
   "metadata": {},
   "source": [
    "### コンポーネントのイテレーション"
   ]
  },
  {
   "cell_type": "code",
   "execution_count": 80,
   "metadata": {},
   "outputs": [
    {
     "name": "stdout",
     "output_type": "stream",
     "text": [
      "Linear(in_features=64, out_features=30, bias=True)\n",
      "Linear(in_features=30, out_features=10, bias=True)\n"
     ]
    }
   ],
   "source": [
    "for module in model.children():\n",
    "    print(module)"
   ]
  },
  {
   "cell_type": "code",
   "execution_count": 82,
   "metadata": {},
   "outputs": [
    {
     "name": "stdout",
     "output_type": "stream",
     "text": [
      "l1 Linear(in_features=64, out_features=30, bias=True)\n",
      "l2 Linear(in_features=30, out_features=10, bias=True)\n"
     ]
    }
   ],
   "source": [
    "for name, module in model.named_children():\n",
    "    print(name, module)"
   ]
  },
  {
   "cell_type": "code",
   "execution_count": 81,
   "metadata": {},
   "outputs": [
    {
     "name": "stdout",
     "output_type": "stream",
     "text": [
      "MLP(\n",
      "  (l1): Linear(in_features=64, out_features=30, bias=True)\n",
      "  (l2): Linear(in_features=30, out_features=10, bias=True)\n",
      ")\n",
      "Linear(in_features=64, out_features=30, bias=True)\n",
      "Linear(in_features=30, out_features=10, bias=True)\n"
     ]
    }
   ],
   "source": [
    "for module in model.modules():\n",
    "    print(module)"
   ]
  },
  {
   "cell_type": "code",
   "execution_count": 79,
   "metadata": {},
   "outputs": [
    {
     "name": "stdout",
     "output_type": "stream",
     "text": [
      " MLP(\n",
      "  (l1): Linear(in_features=64, out_features=30, bias=True)\n",
      "  (l2): Linear(in_features=30, out_features=10, bias=True)\n",
      ")\n",
      "l1 Linear(in_features=64, out_features=30, bias=True)\n",
      "l2 Linear(in_features=30, out_features=10, bias=True)\n"
     ]
    }
   ],
   "source": [
    "for name, module in model.named_modules():\n",
    "    print(name, module)"
   ]
  },
  {
   "cell_type": "code",
   "execution_count": null,
   "metadata": {},
   "outputs": [],
   "source": []
  }
 ],
 "metadata": {
  "kernelspec": {
   "display_name": "ds_conda_env",
   "language": "python",
   "name": "python3"
  },
  "language_info": {
   "codemirror_mode": {
    "name": "ipython",
    "version": 3
   },
   "file_extension": ".py",
   "mimetype": "text/x-python",
   "name": "python",
   "nbconvert_exporter": "python",
   "pygments_lexer": "ipython3",
   "version": "3.8.0"
  }
 },
 "nbformat": 4,
 "nbformat_minor": 2
}
