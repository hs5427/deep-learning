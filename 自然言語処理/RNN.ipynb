{
 "cells": [
  {
   "cell_type": "markdown",
   "metadata": {},
   "source": [
    "## RNN"
   ]
  },
  {
   "cell_type": "markdown",
   "metadata": {},
   "source": [
    "### ライブラリ"
   ]
  },
  {
   "cell_type": "code",
   "execution_count": 6,
   "metadata": {},
   "outputs": [],
   "source": [
    "import math\n",
    "import torch"
   ]
  },
  {
   "cell_type": "code",
   "execution_count": null,
   "metadata": {},
   "outputs": [],
   "source": []
  },
  {
   "cell_type": "code",
   "execution_count": 7,
   "metadata": {},
   "outputs": [],
   "source": [
    "class myRNN:\n",
    "    def __init__(self, input_size, hidden_size):\n",
    "        # 重みを初期化\n",
    "        init_range = 1.0 / math.sqrt(hidden_size)\n",
    "        self.W_in = torch.empty(hidden_size, input_size).uniform_(-init_range, init_range)\n",
    "        self.W_h = torch.empty(hidden_size, hidden_size).uniform_(-init_range, init_range)\n",
    "        self.b_in = torch.empty(hidden_size).uniform_(-init_range, init_range)\n",
    "        self.b_h = torch.empty(hidden_size).uniform_(-init_range, init_range)\n",
    "\n",
    "    def forward(self, input, h_0=None):\n",
    "        # input: [batch_size, seq_len, input_size]\n",
    "        batch_size, seq_len, _ = input.size()\n",
    "\n",
    "        if h_0 is None:\n",
    "            h_t = torch.zeros(1, )\n",
    "        \n",
    "        h = h_0   # [1, batch_size, hidden_size]\n",
    "        outputs = []\n",
    "        for i in range(seq_len):\n",
    "            # h: [1, batch_size, hidden_size]\n",
    "            h = torch.tanh(input[:, i]@self.W_in.T + self.b_in + h.squeeze(0)@self.W_h.T + self.b_h)\n",
    "            outputs.append(h.unsqueeze(1))   # [batch_size, hidden_size] -> [batch_size, 1, hidden_size]\n",
    "\n",
    "        output_seq = torch.cat(outputs, dim=1)\n",
    "        h_n = h.unsqueeze(0)   # [batch_size, hidden_size] -> [1, batch_size, hidden_size]\n",
    "\n",
    "        return output_seq, h_n"
   ]
  },
  {
   "cell_type": "code",
   "execution_count": null,
   "metadata": {},
   "outputs": [
    {
     "data": {
      "text/plain": [
       "tensor([[0., 0., 0., 0., 0.],\n",
       "        [0., 0., 0., 0., 0.],\n",
       "        [0., 0., 0., 0., 0.]])"
      ]
     },
     "execution_count": 5,
     "metadata": {},
     "output_type": "execute_result"
    }
   ],
   "source": [
    "hidden_size = 3\n",
    "input_size = 5\n",
    "W_in = torch.empty(hidden_size, input_size).uniform_()\n",
    "W_in"
   ]
  },
  {
   "cell_type": "code",
   "execution_count": null,
   "metadata": {},
   "outputs": [],
   "source": []
  }
 ],
 "metadata": {
  "kernelspec": {
   "display_name": "ds_conda_env",
   "language": "python",
   "name": "python3"
  },
  "language_info": {
   "codemirror_mode": {
    "name": "ipython",
    "version": 3
   },
   "file_extension": ".py",
   "mimetype": "text/x-python",
   "name": "python",
   "nbconvert_exporter": "python",
   "pygments_lexer": "ipython3",
   "version": "3.8.18"
  }
 },
 "nbformat": 4,
 "nbformat_minor": 2
}
