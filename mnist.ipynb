{
 "cells": [
  {
   "cell_type": "markdown",
   "metadata": {},
   "source": [
    "## MNISTで多クラス分類"
   ]
  },
  {
   "cell_type": "code",
   "execution_count": 46,
   "metadata": {},
   "outputs": [],
   "source": [
    "import torch\n",
    "import torch.nn.functional as F\n",
    "import matplotlib.pyplot as plt\n"
   ]
  },
  {
   "cell_type": "code",
   "execution_count": 47,
   "metadata": {},
   "outputs": [],
   "source": [
    "# 1. データロード\n",
    "from sklearn import datasets\n",
    "dataset = datasets.load_digits()\n",
    "images = dataset['images']\n",
    "target = dataset['target']"
   ]
  },
  {
   "cell_type": "code",
   "execution_count": 48,
   "metadata": {},
   "outputs": [
    {
     "data": {
      "text/plain": [
       "<matplotlib.image.AxesImage at 0x7f9aabbba700>"
      ]
     },
     "execution_count": 48,
     "metadata": {},
     "output_type": "execute_result"
    },
    {
     "data": {
      "image/png": "[encoded data removed]",
      "text/plain": [
       "<Figure size 640x480 with 1 Axes>"
      ]
     },
     "metadata": {},
     "output_type": "display_data"
    }
   ],
   "source": [
    "plt.imshow(images[2], cmap='gray')"
   ]
  },
  {
   "cell_type": "code",
   "execution_count": 49,
   "metadata": {},
   "outputs": [
    {
     "data": {
      "text/plain": [
       "array([0, 1, 2, ..., 8, 9, 8])"
      ]
     },
     "execution_count": 49,
     "metadata": {},
     "output_type": "execute_result"
    }
   ],
   "source": [
    "target"
   ]
  },
  {
   "cell_type": "code",
   "execution_count": 50,
   "metadata": {},
   "outputs": [],
   "source": [
    "# 2. 前処理\n",
    "\n",
    "# 2-1. ラベルのonehotencoding\n",
    "y_true = F.one_hot(torch.tensor(target), num_classes=10)\n",
    "images = torch.tensor(images, dtype=torch.float32).reshape(-1, 64)\n",
    "\n",
    "# 2-2. 画像の標準化\n",
    "images = (images - images.mean()) / images.std()"
   ]
  },
  {
   "cell_type": "code",
   "execution_count": 51,
   "metadata": {},
   "outputs": [],
   "source": [
    "learning_rate = 0.03\n",
    "loss_log = []"
   ]
  },
  {
   "cell_type": "code",
   "execution_count": 52,
   "metadata": {},
   "outputs": [],
   "source": [
    "# 3. パラメータの初期化\n",
    "W = torch.rand((10, 64), requires_grad=True)   # 出力x入力\n",
    "b = torch.rand((1, 10), requires_grad=True)   # 1x出力"
   ]
  },
  {
   "cell_type": "code",
   "execution_count": 53,
   "metadata": {},
   "outputs": [],
   "source": [
    "# 4. softmaxとcross_entropy\n",
    "def softmax(x):\n",
    "    e_x = torch.exp(x - torch.max(x, dim=1, keepdim=True)[0])\n",
    "    return e_x / (torch.sum(e_x, dim=1, keepdim=True) + 1e-10)\n",
    "\n",
    "def cross_entropy(y_true, y_pred):\n",
    "    return -torch.sum(y_true * torch.log(y_pred + 1e-10)) / y_true.shape[0]"
   ]
  },
  {
   "cell_type": "code",
   "execution_count": 54,
   "metadata": {},
   "outputs": [
    {
     "name": "stdout",
     "output_type": "stream",
     "text": [
      "epoch: 1: 0.4271573373963795\n",
      "epoch: 2: 0.143327266783357\n",
      "epoch: 3: 0.11268400823225524\n",
      "epoch: 4: 0.0962955492834985\n",
      "epoch: 5: 0.08499547366162662\n"
     ]
    }
   ],
   "source": [
    "# 5. for文で学習ループ作成\n",
    "for epoch in range(5):\n",
    "    running_loss = 0\n",
    "    for i in range(len(target)):\n",
    "        # 6. 入力データxおよび教師ラベルのYを作成\n",
    "        y_true_ = y_true[i].reshape(-1, 10)\n",
    "        X = images[i].reshape(-1, 64)\n",
    "\n",
    "        # 7. z計算\n",
    "        z = X @ W.T + b\n",
    "\n",
    "        # 8. softmaxで予測計算\n",
    "        y_pred = softmax(z)\n",
    "\n",
    "        # 9. 損失計算\n",
    "        loss = cross_entropy(y_true_, y_pred)\n",
    "        loss_log.append(loss.item())\n",
    "        running_loss += loss.item()\n",
    "\n",
    "        # 10. 勾配計算\n",
    "        loss.backward()\n",
    "\n",
    "        # 11. パラメータ更新\n",
    "        with torch.no_grad():\n",
    "            W -= learning_rate * W.grad\n",
    "            b -= learning_rate + b.grad\n",
    "        \n",
    "        # 12. 勾配初期化\n",
    "        W.grad.zero_()\n",
    "        b.grad.zero_()\n",
    "    \n",
    "    # 13. 損失ログ出力\n",
    "    print(f'epoch: {epoch+1}: {running_loss/len(target)}')"
   ]
  },
  {
   "cell_type": "code",
   "execution_count": 56,
   "metadata": {},
   "outputs": [
    {
     "data": {
      "text/plain": [
       "tensor(0.9638)"
      ]
     },
     "execution_count": 56,
     "metadata": {},
     "output_type": "execute_result"
    }
   ],
   "source": [
    "# 精度確認\n",
    "Z  = X @ W.T + b\n",
    "y_pred = softmax(Z)   # 確率値\n",
    "accuracy = torch.sum(torch.argmax(y_pred, dim=-1) == torch.argmax(y_true, dim=-1)) / y_true.shape[0]\n",
    "accuracy"
   ]
  },
  {
   "cell_type": "code",
   "execution_count": null,
   "metadata": {},
   "outputs": [],
   "source": []
  }
 ],
 "metadata": {
  "kernelspec": {
   "display_name": "ds_conda_env",
   "language": "python",
   "name": "python3"
  },
  "language_info": {
   "codemirror_mode": {
    "name": "ipython",
    "version": 3
   },
   "file_extension": ".py",
   "mimetype": "text/x-python",
   "name": "python",
   "nbconvert_exporter": "python",
   "pygments_lexer": "ipython3",
   "version": "3.8.18"
  }
 },
 "nbformat": 4,
 "nbformat_minor": 2
}
