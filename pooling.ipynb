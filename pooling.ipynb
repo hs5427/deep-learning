{
 "cells": [
  {
   "cell_type": "markdown",
   "metadata": {},
   "source": [
    "## Pooling Layer"
   ]
  },
  {
   "cell_type": "markdown",
   "metadata": {},
   "source": [
    "- max_pooling\n",
    "- GAP"
   ]
  },
  {
   "cell_type": "markdown",
   "metadata": {},
   "source": [
    "#### ライブラリ"
   ]
  },
  {
   "cell_type": "code",
   "execution_count": 7,
   "metadata": {},
   "outputs": [],
   "source": [
    "# オープンソース\n",
    "import matplotlib.pyplot as plt\n",
    "import time\n",
    "import torch\n",
    "import torch.nn as nn\n",
    "from torch.nn import functional as F\n",
    "from torch import optim\n",
    "import torchvision\n",
    "from torchvision import transforms\n",
    "from torch.nn import Conv2d\n",
    "from torch.utils.data import DataLoader\n",
    "# 自作\n",
    "import utils"
   ]
  },
  {
   "cell_type": "markdown",
   "metadata": {},
   "source": [
    "### Max Pooling"
   ]
  },
  {
   "cell_type": "markdown",
   "metadata": {},
   "source": [
    "#### スクラッチ実装"
   ]
  },
  {
   "cell_type": "code",
   "execution_count": null,
   "metadata": {},
   "outputs": [
    {
     "data": {
      "text/plain": [
       "<matplotlib.image.AxesImage at 0x7fdba80a8820>"
      ]
     },
     "execution_count": 13,
     "metadata": {},
     "output_type": "execute_result"
    },
    {
     "data": {
      "image/png": "[encoded data removed]",
      "text/plain": [
       "<Figure size 640x480 with 4 Axes>"
      ]
     },
     "metadata": {},
     "output_type": "display_data"
    }
   ],
   "source": [
    "# max_pooling\n",
    "def max_pooling(X, kernel_size=2, stride=2):\n",
    "    X_h, X_w = X.shape\n",
    "    output_data = []\n",
    "    for i in range(0, X_h - kernel_size + 1, stride):\n",
    "        row = []\n",
    "        for j in range(0, X_w - kernel_size + 1, stride):\n",
    "            row.append(X[i:i+kernel_size, j:j+kernel_size].max().item())\n",
    "        output_data.append(row)\n",
    "    return torch.tensor(output_data)\n",
    "\n",
    "# conv2d\n",
    "def apply_filter(im, filter):\n",
    "    im_h, im_w = im.shape\n",
    "    f_h, f_w = filter.shape\n",
    "    output_data = []\n",
    "    for i in range(im_h - f_h + 1):\n",
    "        row = []\n",
    "        for j in range(im_w - f_w + 1):\n",
    "            row.append((im[i:i+f_h, j:j+f_w] * filter).sum().item())\n",
    "        output_data.append(row)\n",
    "    return torch.tensor(output_data)\n",
    "\n",
    "# relu\n",
    "def relu(X):\n",
    "    return torch.clamp(X, min=0)\n",
    "\n",
    "# データ準備\n",
    "transform = transforms.Compose([\n",
    "    transforms.ToTensor(),\n",
    "    transforms.Normalize((0.5, ), (0.5, ))\n",
    "])\n",
    "train_dataset = torchvision.datasets.MNIST('~/data', train=True, download=True, transform=transform)\n",
    "val_dataset = torchvision.datasets.MNIST('~/data', train=False, download=True, transform=transform)\n",
    "train_loader = DataLoader(train_dataset, batch_size=128, shuffle=True)\n",
    "val_loader = DataLoader(val_dataset, batch_size=128, shuffle=False)\n",
    "\n",
    "X, y = train_dataset[0]\n",
    "X_ =  X[0, :, :]\n",
    "# filter\n",
    "top_edge_filter = torch.tensor([[-1, -1, -1],\n",
    "                                [0, 0, 0],\n",
    "                                [1, 1, 1]])\n",
    "# conv\n",
    "conv_out = apply_filter(X_, top_edge_filter)\n",
    "# relu\n",
    "relu_out = relu(conv_out)\n",
    "# maxpooling\n",
    "max_out = max_pooling(relu_out)\n",
    "# 結果表示\n",
    "fig, ax = plt.subplots(1, 4)\n",
    "ax[0].imshow(X_, cmap='gray')\n",
    "ax[1].imshow(conv_out, cmap='gray')\n",
    "ax[2].imshow(relu_out, cmap='gray')\n",
    "ax[3].imshow(max_out, cmap='gray')"
   ]
  },
  {
   "cell_type": "markdown",
   "metadata": {},
   "source": [
    "#### PytorchのMaxPooling"
   ]
  },
  {
   "cell_type": "code",
   "execution_count": null,
   "metadata": {},
   "outputs": [],
   "source": [
    "conv_model = nn.Sequential(\n",
    "    # 1x28x28 -> 4x14x14\n",
    "    nn.Conv2d(1, 4, kernel_size=3, stride=1, padding=1),\n",
    "    nn.ReLU(),\n",
    "    nn.MaxPool2d(kernel_size=2, stride=2),\n",
    "    # 4x14x14 -> 8x7x7\n",
    "    nn.Conv2d(4, 8, kernel_size=3, stride=1, padding=1),\n",
    "    nn.ReLU(),\n",
    "    nn.MaxPool2d(kernel_size=2, stride=2),\n",
    "    # 8x7x7 -> 16x3x3\n",
    "    nn.Conv2d(8, 16, kernel_size=3, stride=1, padding=1),\n",
    "    nn.ReLU(),\n",
    "    nn.MaxPool2d(kernel_size=2, stride=2),\n",
    "    # 16x3x3 -> 32x1x1\n",
    "    nn.Conv2d(16, 32, kernel_size=3, stride=1, padding=1),\n",
    "    nn.ReLU(),\n",
    "    nn.MaxPool2d(kernel_size=2, stride=2),\n",
    "    # 32x1x1 -> 10x1x1\n",
    "    nn.Conv2d(32, 10, kernel_size=3, stride=1, padding=1),\n",
    "    # 10x1x1\n",
    "    nn.Flatten()\n",
    ")"
   ]
  },
  {
   "cell_type": "code",
   "execution_count": 6,
   "metadata": {},
   "outputs": [],
   "source": [
    "class ConvModel(nn.Module):\n",
    "    def __init__(self, in_ch):\n",
    "        super().__init__()\n",
    "        self.conv1 = nn.Conv2d(in_ch, 4, kernel_size=3, stride=1, padding=1)\n",
    "        self.conv2 = nn.Conv2d(4, 8, kernel_size=3, stride=1, padding=1)\n",
    "        self.conv3 = nn.Conv2d(8, 16, kernel_size=3, stride=1, padding=1)\n",
    "        self.conv4 = nn.Conv2d(16, 32, kernel_size=3, stride=1, padding=1)\n",
    "        self.conv5 = nn.Conv2d(32, 10, kernel_size=3, stride=1, padding=1)\n",
    "        self.flatten = nn.Flatten()\n",
    "\n",
    "    def forward(self, X):\n",
    "        X = F.relu(self.conv1(X))\n",
    "        X = F.max_pool2d(X, 2)\n",
    "        X = F.relu(self.conv2(X))\n",
    "        X = F.max_pool2d(X, 2)\n",
    "        X = F.relu(self.conv3(X))\n",
    "        X = F.max_pool2d(X, 2)\n",
    "        X = F.relu(self.conv4(X))\n",
    "        X = F.max_pool2d(X, 2)\n",
    "        X = F.relu(self.conv5(X))\n",
    "        X = self.flatten(X)\n",
    "        return X"
   ]
  },
  {
   "cell_type": "markdown",
   "metadata": {},
   "source": [
    "### GAP"
   ]
  },
  {
   "cell_type": "markdown",
   "metadata": {},
   "source": [
    "#### Global Average Layerのスクラッチ実装"
   ]
  },
  {
   "cell_type": "code",
   "execution_count": null,
   "metadata": {},
   "outputs": [
    {
     "data": {
      "text/plain": [
       "<matplotlib.image.AxesImage at 0x7fdbda8d7c70>"
      ]
     },
     "execution_count": 19,
     "metadata": {},
     "output_type": "execute_result"
    },
    {
     "data": {
      "image/png": "[encoded data removed]",
      "text/plain": [
       "<Figure size 640x480 with 1 Axes>"
      ]
     },
     "metadata": {},
     "output_type": "display_data"
    }
   ],
   "source": [
    "class GlobalAveragePooling(nn.Module):\n",
    "    def forward(self, X):\n",
    "        return torch.mean(X, dim=(2, 3), keepdim=True)"
   ]
  },
  {
   "cell_type": "markdown",
   "metadata": {},
   "source": [
    "#### PytorchでGAP層を実装"
   ]
  },
  {
   "cell_type": "code",
   "execution_count": 8,
   "metadata": {},
   "outputs": [],
   "source": [
    "gap_layer = nn.AdaptiveAvgPool2d(1)   # 出力サイズを指定（直接的なGAPの実装はない）"
   ]
  },
  {
   "cell_type": "markdown",
   "metadata": {},
   "source": [
    "#### GAP層をCNNモデルに追加"
   ]
  },
  {
   "cell_type": "code",
   "execution_count": null,
   "metadata": {},
   "outputs": [],
   "source": [
    "conv_model = nn.Sequential(\n",
    "    # 1x28x28 -> 4x14x14\n",
    "    nn.Conv2d(1, 4, kernel_size=3, stride=2, padding=1),\n",
    "    nn.ReLU(),\n",
    "    # 4x14x14 -> 8x7x7\n",
    "    nn.Conv2d(4, 8, kernel_size=3, stride=2, padding=1),\n",
    "    nn.ReLU(),\n",
    "    # 8x7x7 -> 16x3x3\n",
    "    nn.Conv2d(8, 16, kernel_size=3, stride=2, padding=1),\n",
    "    nn.ReLU(),\n",
    "    # 16x3x3 -> 32x1x1\n",
    "    nn.Conv2d(16, 32, kernel_size=3, stride=2, padding=1),\n",
    "    nn.ReLU(),\n",
    "    nn.AdaptiveAvgPool2d(1),   # <- GAP\n",
    "    # 32\n",
    "    nn.Flatten(),\n",
    "    # 10\n",
    "    nn.Linear(32, 10)\n",
    ")"
   ]
  },
  {
   "cell_type": "code",
   "execution_count": null,
   "metadata": {},
   "outputs": [],
   "source": []
  }
 ],
 "metadata": {
  "kernelspec": {
   "display_name": "ds_conda_env",
   "language": "python",
   "name": "python3"
  },
  "language_info": {
   "codemirror_mode": {
    "name": "ipython",
    "version": 3
   },
   "file_extension": ".py",
   "mimetype": "text/x-python",
   "name": "python",
   "nbconvert_exporter": "python",
   "pygments_lexer": "ipython3",
   "version": "3.8.18"
  }
 },
 "nbformat": 4,
 "nbformat_minor": 2
}
