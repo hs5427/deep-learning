{
 "cells": [
  {
   "cell_type": "markdown",
   "metadata": {},
   "source": [
    "### ライブラリ"
   ]
  },
  {
   "cell_type": "code",
   "execution_count": 130,
   "metadata": {},
   "outputs": [],
   "source": [
    "import matplotlib.pyplot as plt\n",
    "from sklearn import datasets\n",
    "\n",
    "import torch\n",
    "from torch import nn\n",
    "import torch.optim as optim\n",
    "from torch.optim.lr_scheduler import StepLR\n",
    "import torch.nn.functional as F\n",
    "from torch.utils.data import DataLoader, Dataset\n",
    "\n",
    "import torchvision\n",
    "from torchvision import transforms"
   ]
  },
  {
   "cell_type": "markdown",
   "metadata": {},
   "source": [
    "### データの準備"
   ]
  },
  {
   "cell_type": "code",
   "execution_count": 121,
   "metadata": {},
   "outputs": [],
   "source": [
    "# 前処理\n",
    "transform = transforms.Compose([\n",
    "    # 画像をテンソルに変換\n",
    "    transforms.ToTensor(),\n",
    "    # 画像のピクセル値を-1~1に正規化\n",
    "    transforms.Normalize((0.5,), (0.5,))\n",
    "])\n",
    "\n",
    "# データセットのダウンロード\n",
    "train_dataset = torchvision.datasets.MNIST(root='./data', train=True, transform=transform, download=True)\n",
    "val_dataset = torchvision.datasets.MNIST(root='./data', train=False, transform=transform, download=True)\n",
    "\n",
    "# データローダーの作成\n",
    "batch_size = 10\n",
    "train_loader = torch.utils.data.DataLoader(dataset=train_dataset, batch_size=batch_size, shuffle=True)\n",
    "val_loader = torch.utils.data.DataLoader(dataset=val_dataset, batch_size=batch_size, shuffle=False)"
   ]
  },
  {
   "cell_type": "code",
   "execution_count": 122,
   "metadata": {},
   "outputs": [
    {
     "data": {
      "text/plain": [
       "<matplotlib.image.AxesImage at 0x7fb98c6d7880>"
      ]
     },
     "execution_count": 122,
     "metadata": {},
     "output_type": "execute_result"
    },
    {
     "data": {
      "image/png": "[encoded data removed]",
      "text/plain": [
       "<Figure size 640x480 with 1 Axes>"
      ]
     },
     "metadata": {},
     "output_type": "display_data"
    }
   ],
   "source": [
    "# データセットの確認\n",
    "image, label = train_dataset[0]\n",
    "plt.imshow(image[0], cmap='gray')"
   ]
  },
  {
   "cell_type": "code",
   "execution_count": 123,
   "metadata": {},
   "outputs": [
    {
     "name": "stdout",
     "output_type": "stream",
     "text": [
      "torch.Size([10, 1, 28, 28])\n",
      "torch.Size([3, 62, 152])\n"
     ]
    },
    {
     "data": {
      "text/plain": [
       "<matplotlib.image.AxesImage at 0x7fb94ae83730>"
      ]
     },
     "execution_count": 123,
     "metadata": {},
     "output_type": "execute_result"
    },
    {
     "data": {
      "image/png": "[encoded data removed]",
      "text/plain": [
       "<Figure size 640x480 with 1 Axes>"
      ]
     },
     "metadata": {},
     "output_type": "display_data"
    }
   ],
   "source": [
    "# データローダーの確認\n",
    "images, labels = next(iter(train_loader))\n",
    "print(images.shape)                                              # batch_size, channel, height, width\n",
    "grid_images = torchvision.utils.make_grid(images, nrow=5)\n",
    "print(grid_images.shape)                                         # channel, height, width\n",
    "grid_images = grid_images / 2 + 0.5                              # unnormalize\n",
    "plt.imshow(torch.permute(grid_images, (1, 2, 0)), cmap='gray')   # channel, height, width -> height, width, channel"
   ]
  },
  {
   "cell_type": "markdown",
   "metadata": {},
   "source": [
    "### モデル定義"
   ]
  },
  {
   "cell_type": "code",
   "execution_count": 124,
   "metadata": {},
   "outputs": [
    {
     "name": "stdout",
     "output_type": "stream",
     "text": [
      "<bound method Module.parameters of MLP(\n",
      "  (flatten): Flatten(start_dim=1, end_dim=-1)\n",
      "  (l1): Linear(in_features=784, out_features=30, bias=True)\n",
      "  (l2): Linear(in_features=30, out_features=10, bias=True)\n",
      ")>\n"
     ]
    }
   ],
   "source": [
    "# アーキテクチャの定義\n",
    "class MLP(nn.Module):\n",
    "    def __init__(self, num_in, num_hidden, num_out):\n",
    "        super().__init__()\n",
    "        self.flatten = nn.Flatten()                 # [batch_size, channel, height, width] -> [batch_size, channel * height * width]\n",
    "        self.l1 = nn.Linear(num_in, num_hidden)\n",
    "        self.l2 = nn.Linear(num_hidden, num_out)\n",
    "\n",
    "    def forward(self, x):\n",
    "        x = self.flatten(x)\n",
    "        z1 = self.l1(x)\n",
    "        a1 = F.relu(z1)\n",
    "        x = self.l2(a1)\n",
    "        return x\n",
    "\n",
    "# モデルのインスタンス化\n",
    "model = MLP(28*28, 30, 10)\n",
    "\n",
    "# モデルの確認\n",
    "print(model.parameters)"
   ]
  },
  {
   "cell_type": "code",
   "execution_count": 125,
   "metadata": {},
   "outputs": [],
   "source": [
    "# optimizerの定義\n",
    "leraning_rate = 0.01\n",
    "opt = optim.SGD(model.parameters(), lr=leraning_rate)"
   ]
  },
  {
   "cell_type": "code",
   "execution_count": 131,
   "metadata": {},
   "outputs": [],
   "source": [
    "# learning rate schedulerの定義\n",
    "scheduler = optim.lr_scheduler.StepLR(opt, step_size=10, gamma=0.1)"
   ]
  },
  {
   "cell_type": "markdown",
   "metadata": {},
   "source": [
    "### 学習"
   ]
  },
  {
   "cell_type": "code",
   "execution_count": 126,
   "metadata": {},
   "outputs": [
    {
     "name": "stdout",
     "output_type": "stream",
     "text": [
      "Epoch: 0, train Loss: 0.4172641909373924, val Loss: 0.2574998234140221, val Accuracy: 0.9247999999999952\n",
      "Epoch: 1, train Loss: 0.23546656835118, val Loss: 0.19214284394029527, val Accuracy: 0.9418999999999953\n",
      "Epoch: 2, train Loss: 0.18772043152529902, val Loss: 0.17141029117954895, val Accuracy: 0.9493999999999956\n",
      "Epoch: 3, train Loss: 0.1613014594920872, val Loss: 0.15858115464629371, val Accuracy: 0.9537999999999957\n",
      "Epoch: 4, train Loss: 0.1427945498454986, val Loss: 0.14164594814096926, val Accuracy: 0.956499999999996\n",
      "Epoch: 5, train Loss: 0.13122848511823396, val Loss: 0.13069493334391155, val Accuracy: 0.9600999999999963\n",
      "Epoch: 6, train Loss: 0.12158697176404287, val Loss: 0.12610538819406064, val Accuracy: 0.9599999999999965\n",
      "Epoch: 7, train Loss: 0.11315414108614884, val Loss: 0.11768992697791691, val Accuracy: 0.9639999999999965\n",
      "Epoch: 8, train Loss: 0.10720298062869309, val Loss: 0.1164480647387827, val Accuracy: 0.9644999999999967\n",
      "Epoch: 9, train Loss: 0.1010376321098156, val Loss: 0.12035661447441089, val Accuracy: 0.9639999999999969\n",
      "Epoch: 10, train Loss: 0.09561307355434595, val Loss: 0.12208885692616968, val Accuracy: 0.9625999999999965\n",
      "Epoch: 11, train Loss: 0.09166914156093602, val Loss: 0.1230589121816447, val Accuracy: 0.9627999999999964\n",
      "Epoch: 12, train Loss: 0.08776360220403755, val Loss: 0.10329610666196094, val Accuracy: 0.9673999999999968\n",
      "Epoch: 13, train Loss: 0.08419762618299986, val Loss: 0.11400338012535122, val Accuracy: 0.9651999999999967\n",
      "Epoch: 14, train Loss: 0.08145635514051051, val Loss: 0.1032433203387427, val Accuracy: 0.9687999999999969\n",
      "Epoch: 15, train Loss: 0.07804927679765145, val Loss: 0.11407684115386292, val Accuracy: 0.9660999999999963\n",
      "Epoch: 16, train Loss: 0.07587925053692864, val Loss: 0.11048094578755081, val Accuracy: 0.9672999999999963\n",
      "Epoch: 17, train Loss: 0.07303410889309937, val Loss: 0.1109410110030285, val Accuracy: 0.9669999999999966\n",
      "Epoch: 18, train Loss: 0.07154900237976713, val Loss: 0.10785096317451644, val Accuracy: 0.9673999999999967\n",
      "early stopping\n"
     ]
    }
   ],
   "source": [
    "# ログの保存\n",
    "train_losses = []\n",
    "val_losses = []\n",
    "val_accuracies = []\n",
    "best_val_loss = float('inf')\n",
    "no_improve = 0\n",
    "\n",
    "# parameter\n",
    "num_epochs = 30\n",
    "early_stopping = 3\n",
    "\n",
    "\n",
    "# 学習\n",
    "for epoch in range(num_epochs):\n",
    "\n",
    "    running_loss = 0.0\n",
    "    running_val_loss = 0.0\n",
    "    running_val_acc = 0.0\n",
    "\n",
    "    for train_batch, data in enumerate(train_loader):\n",
    "\n",
    "        # データの取り出し\n",
    "        X, y = data\n",
    "        # 勾配の初期化\n",
    "        opt.zero_grad()\n",
    "        # 順伝播\n",
    "        preds = model(X)\n",
    "        # 損失の計算\n",
    "        loss = F.cross_entropy(preds, y)\n",
    "        running_loss += loss.item()\n",
    "        # 逆伝播\n",
    "        loss.backward()\n",
    "        # パラメータの更新\n",
    "        opt.step()\n",
    "    \n",
    "    # validation\n",
    "    with torch.no_grad():\n",
    "        for val_batch, data in enumerate(val_loader):\n",
    "            X_val, y_val = data\n",
    "            preds_val = model(X_val)\n",
    "            val_loss = F.cross_entropy(preds_val, y_val)\n",
    "            running_val_loss += val_loss.item()\n",
    "            val_accuracy = torch.sum(torch.argmax(preds_val, dim=-1) == y_val).item() / y_val.shape[0]\n",
    "            running_val_acc += val_accuracy\n",
    "\n",
    "    # epochごとの損失の保存\n",
    "    train_losses.append(running_loss / (train_batch + 1))\n",
    "    val_losses.append(running_val_loss / (val_batch + 1))\n",
    "    val_accuracies.append(running_val_acc / (val_batch + 1))\n",
    "\n",
    "    # 損失の表示\n",
    "    print(f'Epoch: {epoch}, train Loss: {train_losses[-1]}, val Loss: {val_losses[-1]}, val Accuracy: {val_accuracies[-1]}')\n",
    "\n",
    "    # early stopping\n",
    "    if val_losses[-1] < best_val_loss:\n",
    "        best_val_loss = val_losses[-1]\n",
    "        no_improve = 0\n",
    "    else:\n",
    "        no_improve += 1\n",
    "        if no_improve > early_stopping:\n",
    "            print('early stopping')\n",
    "            break\n",
    "    \n",
    "    # learning rateの更新\n",
    "    scheduler.step()"
   ]
  },
  {
   "cell_type": "markdown",
   "metadata": {},
   "source": [
    "### 損失の可視化"
   ]
  },
  {
   "cell_type": "code",
   "execution_count": 127,
   "metadata": {},
   "outputs": [
    {
     "data": {
      "text/plain": [
       "<matplotlib.legend.Legend at 0x7fb94b32a340>"
      ]
     },
     "execution_count": 127,
     "metadata": {},
     "output_type": "execute_result"
    },
    {
     "data": {
      "image/png": "[encoded data removed]",
      "text/plain": [
       "<Figure size 640x480 with 1 Axes>"
      ]
     },
     "metadata": {},
     "output_type": "display_data"
    }
   ],
   "source": [
    "plt.plot(train_losses, label='train loss')\n",
    "plt.plot(val_losses, label='val loss')\n",
    "plt.legend()"
   ]
  },
  {
   "cell_type": "markdown",
   "metadata": {},
   "source": [
    "### モデルの保存"
   ]
  },
  {
   "cell_type": "code",
   "execution_count": 128,
   "metadata": {},
   "outputs": [],
   "source": [
    "# モデルオブジェクトの保存\n",
    "torch.save(model, 'sample_model.pth')\n",
    "# モデルのロード\n",
    "loaded_model = torch.load('sample_model.pth')"
   ]
  },
  {
   "cell_type": "code",
   "execution_count": 129,
   "metadata": {},
   "outputs": [
    {
     "name": "stdout",
     "output_type": "stream",
     "text": [
      "Parameter containing:\n",
      "tensor([[-3.3253e-02, -6.8095e-03, -3.1900e-02,  ..., -3.0858e-02,\n",
      "         -2.3968e-02, -1.6548e-02],\n",
      "        [-1.1598e-02, -2.6237e-02,  1.9219e-02,  ...,  2.0764e-02,\n",
      "         -3.8758e-02, -3.9687e-02],\n",
      "        [-1.4179e-03,  1.4116e-02,  2.5029e-02,  ..., -7.0399e-03,\n",
      "          2.3769e-02,  1.4482e-03],\n",
      "        ...,\n",
      "        [-2.4439e-02,  2.0459e-04, -8.7206e-04,  ...,  1.5193e-02,\n",
      "          3.4505e-05, -2.3460e-02],\n",
      "        [ 2.2007e-02, -2.9599e-02,  1.5301e-02,  ...,  1.1442e-02,\n",
      "          2.6734e-02,  1.7677e-02],\n",
      "        [ 2.9170e-02, -3.0232e-03, -1.5634e-02,  ...,  2.3946e-02,\n",
      "          2.5026e-02, -8.4594e-03]], requires_grad=True)\n",
      "Parameter containing:\n",
      "tensor([[-3.3253e-02, -6.8095e-03, -3.1900e-02,  ..., -3.0858e-02,\n",
      "         -2.3968e-02, -1.6548e-02],\n",
      "        [-1.1598e-02, -2.6237e-02,  1.9219e-02,  ...,  2.0764e-02,\n",
      "         -3.8758e-02, -3.9687e-02],\n",
      "        [-1.4179e-03,  1.4116e-02,  2.5029e-02,  ..., -7.0399e-03,\n",
      "          2.3769e-02,  1.4482e-03],\n",
      "        ...,\n",
      "        [-2.4439e-02,  2.0459e-04, -8.7206e-04,  ...,  1.5193e-02,\n",
      "          3.4505e-05, -2.3460e-02],\n",
      "        [ 2.2007e-02, -2.9599e-02,  1.5301e-02,  ...,  1.1442e-02,\n",
      "          2.6734e-02,  1.7677e-02],\n",
      "        [ 2.9170e-02, -3.0232e-03, -1.5634e-02,  ...,  2.3946e-02,\n",
      "          2.5026e-02, -8.4594e-03]], requires_grad=True)\n"
     ]
    }
   ],
   "source": [
    "# モデルのパラメータのみの保存(推奨)\n",
    "params = model.state_dict()\n",
    "torch.save(params, 'sample_model_param.pth')\n",
    "# パラメータのロード\n",
    "another_model = MLP(28*28, 30, 10)\n",
    "another_model.load_state_dict(torch.load('sample_model_param.pth'))\n",
    "# 確認\n",
    "print(model.l1.weight)\n",
    "print(another_model.l1.weight)"
   ]
  },
  {
   "cell_type": "code",
   "execution_count": null,
   "metadata": {},
   "outputs": [],
   "source": []
  }
 ],
 "metadata": {
  "kernelspec": {
   "display_name": "ds_conda_env",
   "language": "python",
   "name": "python3"
  },
  "language_info": {
   "codemirror_mode": {
    "name": "ipython",
    "version": 3
   },
   "file_extension": ".py",
   "mimetype": "text/x-python",
   "name": "python",
   "nbconvert_exporter": "python",
   "pygments_lexer": "ipython3",
   "version": "3.8.18"
  }
 },
 "nbformat": 4,
 "nbformat_minor": 2
}
