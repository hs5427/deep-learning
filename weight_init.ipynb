{
 "cells": [
  {
   "cell_type": "markdown",
   "metadata": {},
   "source": [
    "## 重み初期化"
   ]
  },
  {
   "cell_type": "markdown",
   "metadata": {
    "vscode": {
     "languageId": "plaintext"
    }
   },
   "source": [
    "### ライブラリ"
   ]
  },
  {
   "cell_type": "code",
   "execution_count": 1,
   "metadata": {},
   "outputs": [],
   "source": [
    "import matplotlib.pyplot as plt\n",
    "import torch\n",
    "from torch import nn, optim\n",
    "from torch.nn import functional as F\n",
    "from torch.utils.data import DataLoader\n",
    "from functools import partial\n",
    "import torchvision\n",
    "from torchvision import transforms\n",
    "import utils"
   ]
  },
  {
   "cell_type": "markdown",
   "metadata": {},
   "source": [
    "### Xaiver initialization"
   ]
  },
  {
   "cell_type": "markdown",
   "metadata": {},
   "source": [
    "#### スクラッチで実装"
   ]
  },
  {
   "cell_type": "code",
   "execution_count": 22,
   "metadata": {},
   "outputs": [],
   "source": [
    "X = torch.randn(60, 30)\n",
    "n_in, n_out = 30, 30\n",
    "std = torch.sqrt(torch.tensor(2. / (n_in + n_out)))\n",
    "\n",
    "for i in range(50):\n",
    "    W = torch.randn(n_out, n_in) * std\n",
    "    X = X @ W.T"
   ]
  },
  {
   "cell_type": "markdown",
   "metadata": {},
   "source": [
    "#### Pytorchで実装"
   ]
  },
  {
   "cell_type": "code",
   "execution_count": null,
   "metadata": {},
   "outputs": [],
   "source": []
  },
  {
   "cell_type": "markdown",
   "metadata": {},
   "source": [
    "### Kaiming initialization"
   ]
  },
  {
   "cell_type": "markdown",
   "metadata": {},
   "source": [
    "#### スクラッチで実装"
   ]
  },
  {
   "cell_type": "code",
   "execution_count": 25,
   "metadata": {},
   "outputs": [],
   "source": [
    "X = torch.randn(60, 30)\n",
    "n_in, n_out = 30, 30\n",
    "std = torch.sqrt(torch.tensor(2. / n_in))\n",
    "\n",
    "for i in range(50):\n",
    "    W = torch.randn(n_out, n_in) * std\n",
    "    X = X @ W.T\n",
    "    X = torch.clamp(X, min=0.)"
   ]
  },
  {
   "cell_type": "markdown",
   "metadata": {},
   "source": [
    "#### Pytorchで実装"
   ]
  },
  {
   "cell_type": "code",
   "execution_count": 31,
   "metadata": {},
   "outputs": [
    {
     "name": "stdout",
     "output_type": "stream",
     "text": [
      "tensor(-0.0066, grad_fn=<MeanBackward0>) tensor(0.1916, grad_fn=<StdBackward0>)\n",
      "tensor(0.0141, grad_fn=<MeanBackward0>) tensor(0.4297, grad_fn=<StdBackward0>)\n"
     ]
    }
   ],
   "source": [
    "# デフォルトの初期化\n",
    "conv = nn.Conv2d(1, 8, kernel_size=3, stride=2, padding=1)\n",
    "print(conv.weight.mean(), conv.weight.std())\n",
    "# kaimingの初期化\n",
    "conv_kaiming = nn.Conv2d(1, 8, kernel_size=3, stride=2, padding=1)\n",
    "nn.init.kaiming_normal_(conv_kaiming.weight)\n",
    "print(conv_kaiming.weight.mean(), conv_kaiming.weight.std())"
   ]
  },
  {
   "cell_type": "code",
   "execution_count": null,
   "metadata": {},
   "outputs": [],
   "source": []
  }
 ],
 "metadata": {
  "kernelspec": {
   "display_name": "ds_conda_env",
   "language": "python",
   "name": "python3"
  },
  "language_info": {
   "codemirror_mode": {
    "name": "ipython",
    "version": 3
   },
   "file_extension": ".py",
   "mimetype": "text/x-python",
   "name": "python",
   "nbconvert_exporter": "python",
   "pygments_lexer": "ipython3",
   "version": "3.8.18"
  }
 },
 "nbformat": 4,
 "nbformat_minor": 2
}
