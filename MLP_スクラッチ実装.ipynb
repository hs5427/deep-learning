{
 "cells": [
  {
   "cell_type": "markdown",
   "metadata": {},
   "source": [
    "## MLPスクラッチ実装"
   ]
  },
  {
   "cell_type": "code",
   "execution_count": 4,
   "metadata": {},
   "outputs": [],
   "source": [
    "import torch\n",
    "import torch.nn.functional as F\n",
    "import numpy as np\n",
    "import matplotlib.pyplot as plt\n",
    "from sklearn import datasets\n",
    "from sklearn.model_selection import train_test_split"
   ]
  },
  {
   "cell_type": "code",
   "execution_count": 5,
   "metadata": {},
   "outputs": [],
   "source": [
    "# 1. データロード\n",
    "dataset = datasets.load_digits()\n",
    "images = dataset['images']\n",
    "target = dataset['target']\n",
    "\n",
    "# 学習データと検証データに分割\n",
    "X_train, X_val, y_train, y_val = train_test_split(images, target, test_size=0.2, random_state=42)\n",
    "\n",
    "# 2. 前処理\n",
    "# 2-1. ラベルのonehotencoding\n",
    "y_train = F.one_hot(torch.tensor(y_train), num_classes=10)\n",
    "X_train = torch.tensor(X_train, dtype=torch.float32).reshape(-1, 64)\n",
    "y_val = F.one_hot(torch.tensor(y_val), num_classes=10)\n",
    "X_val = torch.tensor(X_val, dtype=torch.float32).reshape(-1, 64)\n",
    "\n",
    "# 2-2. 画像の標準化\n",
    "X_train = (X_train - X_train.mean()) / X_train.std()\n",
    "X_val = (X_val - X_train.mean()) / X_train.std()"
   ]
  },
  {
   "cell_type": "markdown",
   "metadata": {},
   "source": [
    "### 順伝播"
   ]
  },
  {
   "cell_type": "code",
   "execution_count": 6,
   "metadata": {},
   "outputs": [],
   "source": [
    "nh = 30\n",
    "m, n = X_train.shape\n",
    "class_num = 10\n",
    "\n",
    "W1 = torch.randn((nh, n), requires_grad=True)   # 出力 x 入力\n",
    "b1 = torch.randn((1, nh), requires_grad=True)   # 1 x nh\n",
    "\n",
    "W2 = torch.randn((class_num, nh), requires_grad=True)   # 出力 x 入力\n",
    "b2 = torch.randn((1, class_num), requires_grad=True)   # 1 x nh"
   ]
  },
  {
   "cell_type": "code",
   "execution_count": 7,
   "metadata": {},
   "outputs": [],
   "source": [
    "def linear(X, W, b):\n",
    "    return X @ W.T + b\n",
    "\n",
    "def relu(Z):\n",
    "    return Z.clamp_min(0.)\n",
    "\n",
    "def softmax(x):\n",
    "    e_x = torch.exp(x - torch.max(x, dim=1, keepdim=True)[0])\n",
    "    return e_x / (torch.sum(e_x, dim=1, keepdim=True) + 1e-10)\n",
    "\n",
    "def model(X):\n",
    "    Z1 = linear(X, W1, b1)\n",
    "    A1 = relu(Z1)\n",
    "    Z2 = linear(A1, W2, b2)\n",
    "    A2 = softmax(Z2)\n",
    "    return A2"
   ]
  },
  {
   "cell_type": "code",
   "execution_count": 8,
   "metadata": {},
   "outputs": [
    {
     "data": {
      "text/plain": [
       "tensor([[3.0837e-30, 6.0695e-30, 3.3349e-23,  ..., 2.1700e-27, 2.1386e-15,\n",
       "         9.6923e-14],\n",
       "        [2.9962e-39, 5.8498e-33, 1.4970e-09,  ..., 2.8671e-02, 1.3182e-28,\n",
       "         2.0864e-13],\n",
       "        [1.7762e-21, 2.0422e-22, 1.5922e-13,  ..., 1.5471e-13, 2.2273e-05,\n",
       "         3.3669e-06],\n",
       "        ...,\n",
       "        [4.8975e-42, 9.7892e-27, 3.1146e-03,  ..., 2.1735e-24, 1.4130e-36,\n",
       "         4.0039e-31],\n",
       "        [4.9934e-31, 5.4085e-22, 1.5211e-07,  ..., 2.5253e-05, 1.7913e-11,\n",
       "         6.9210e-16],\n",
       "        [1.4396e-11, 4.6489e-20, 1.2519e-10,  ..., 4.0360e-16, 2.5905e-15,\n",
       "         2.6523e-21]], grad_fn=<DivBackward0>)"
      ]
     },
     "execution_count": 8,
     "metadata": {},
     "output_type": "execute_result"
    }
   ],
   "source": [
    "y_train_pred = model(X_train)\n",
    "y_train_pred"
   ]
  },
  {
   "cell_type": "code",
   "execution_count": null,
   "metadata": {},
   "outputs": [],
   "source": []
  }
 ],
 "metadata": {
  "kernelspec": {
   "display_name": "ds_conda_env",
   "language": "python",
   "name": "python3"
  },
  "language_info": {
   "codemirror_mode": {
    "name": "ipython",
    "version": 3
   },
   "file_extension": ".py",
   "mimetype": "text/x-python",
   "name": "python",
   "nbconvert_exporter": "python",
   "pygments_lexer": "ipython3",
   "version": "3.8.18"
  }
 },
 "nbformat": 4,
 "nbformat_minor": 2
}
