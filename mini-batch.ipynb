{
 "cells": [
  {
   "cell_type": "markdown",
   "metadata": {},
   "source": [
    "## MNISTで多クラス分類"
   ]
  },
  {
   "cell_type": "code",
   "execution_count": 88,
   "metadata": {},
   "outputs": [],
   "source": [
    "import torch\n",
    "import torch.nn.functional as F\n",
    "import numpy as np\n",
    "import matplotlib.pyplot as plt\n",
    "from sklearn.model_selection import train_test_split"
   ]
  },
  {
   "cell_type": "code",
   "execution_count": 89,
   "metadata": {},
   "outputs": [],
   "source": [
    "# 1. データロード\n",
    "from sklearn import datasets\n",
    "dataset = datasets.load_digits()\n",
    "images = dataset['images']\n",
    "target = dataset['target']"
   ]
  },
  {
   "cell_type": "code",
   "execution_count": 90,
   "metadata": {},
   "outputs": [
    {
     "data": {
      "text/plain": [
       "<matplotlib.image.AxesImage at 0x7f87c0067f40>"
      ]
     },
     "execution_count": 90,
     "metadata": {},
     "output_type": "execute_result"
    },
    {
     "data": {
      "image/png": "[encoded data removed]",
      "text/plain": [
       "<Figure size 640x480 with 1 Axes>"
      ]
     },
     "metadata": {},
     "output_type": "display_data"
    }
   ],
   "source": [
    "plt.imshow(images[2], cmap='gray')"
   ]
  },
  {
   "cell_type": "code",
   "execution_count": 91,
   "metadata": {},
   "outputs": [
    {
     "data": {
      "text/plain": [
       "array([0, 1, 2, ..., 8, 9, 8])"
      ]
     },
     "execution_count": 91,
     "metadata": {},
     "output_type": "execute_result"
    }
   ],
   "source": [
    "target"
   ]
  },
  {
   "cell_type": "code",
   "execution_count": 92,
   "metadata": {},
   "outputs": [],
   "source": [
    "# 学習データと検証データに分割\n",
    "X_train, X_val, y_train, y_val = train_test_split(images, target, test_size=0.2, random_state=42)"
   ]
  },
  {
   "cell_type": "code",
   "execution_count": 93,
   "metadata": {},
   "outputs": [],
   "source": [
    "# 2. 前処理\n",
    "\n",
    "# 2-1. ラベルのonehotencoding\n",
    "y_train = F.one_hot(torch.tensor(y_train), num_classes=10)\n",
    "X_train = torch.tensor(X_train, dtype=torch.float32).reshape(-1, 64)\n",
    "\n",
    "y_val = F.one_hot(torch.tensor(y_val), num_classes=10)\n",
    "X_val = torch.tensor(X_val, dtype=torch.float32).reshape(-1, 64)\n",
    "\n",
    "# 2-2. 画像の標準化\n",
    "X_train = (X_train - X_train.mean()) / X_train.std()\n",
    "X_val = (X_val - X_train.mean()) / X_train.std()"
   ]
  },
  {
   "cell_type": "code",
   "execution_count": 94,
   "metadata": {},
   "outputs": [],
   "source": [
    "learning_rate = 0.03\n",
    "loss_log = []"
   ]
  },
  {
   "cell_type": "code",
   "execution_count": 95,
   "metadata": {},
   "outputs": [],
   "source": [
    "# 3. パラメータの初期化\n",
    "W = torch.rand((10, 64), requires_grad=True)   # 出力x入力\n",
    "b = torch.rand((1, 10), requires_grad=True)   # 1x出力"
   ]
  },
  {
   "cell_type": "code",
   "execution_count": 96,
   "metadata": {},
   "outputs": [],
   "source": [
    "# 4. softmaxとcross_entropy\n",
    "def softmax(x):\n",
    "    e_x = torch.exp(x - torch.max(x, dim=1, keepdim=True)[0])\n",
    "    return e_x / (torch.sum(e_x, dim=1, keepdim=True) + 1e-10)\n",
    "\n",
    "def cross_entropy(y_true, y_pred):\n",
    "    return -torch.sum(y_true * torch.log(y_pred + 1e-10)) / y_true.shape[0]"
   ]
  },
  {
   "cell_type": "code",
   "execution_count": 97,
   "metadata": {},
   "outputs": [],
   "source": [
    "# バッチサイズ\n",
    "batch_size = 30\n",
    "num_batches = np.ceil(len(y_train) / batch_size).astype(int)\n",
    "\n",
    "# epoch\n",
    "epochs = 30"
   ]
  },
  {
   "cell_type": "code",
   "execution_count": 98,
   "metadata": {},
   "outputs": [],
   "source": [
    "# ログ\n",
    "train_losses = []\n",
    "val_losses = []\n",
    "val_accuracies = []"
   ]
  },
  {
   "cell_type": "code",
   "execution_count": 99,
   "metadata": {},
   "outputs": [
    {
     "name": "stdout",
     "output_type": "stream",
     "text": [
      "epoch: 1: train_loss:2.835403169194857, val_loss:13.90495491027832, val_acuraccy:0.16388888657093048\n",
      "epoch: 2: train_loss:1.461123698701461, val_loss:10.092293739318848, val_acuraccy:0.33888888359069824\n",
      "epoch: 3: train_loss:0.9676776180664698, val_loss:8.2736177444458, val_acuraccy:0.4305555522441864\n",
      "epoch: 4: train_loss:0.7445639154563347, val_loss:7.0497307777404785, val_acuraccy:0.4861111044883728\n",
      "epoch: 5: train_loss:0.616110016281406, val_loss:6.093035697937012, val_acuraccy:0.5416666865348816\n",
      "epoch: 6: train_loss:0.5304351871212324, val_loss:5.328108310699463, val_acuraccy:0.5805555582046509\n",
      "epoch: 7: train_loss:0.4700807264695565, val_loss:4.863088607788086, val_acuraccy:0.605555534362793\n",
      "epoch: 8: train_loss:0.4256394663825631, val_loss:4.336323261260986, val_acuraccy:0.644444465637207\n",
      "epoch: 9: train_loss:0.3906311886385083, val_loss:4.083366394042969, val_acuraccy:0.6416666507720947\n",
      "epoch: 10: train_loss:0.3646944745754202, val_loss:3.5261216163635254, val_acuraccy:0.6861110925674438\n",
      "epoch: 11: train_loss:0.34135584300383925, val_loss:3.044839859008789, val_acuraccy:0.7194444537162781\n",
      "epoch: 12: train_loss:0.3206297804911931, val_loss:2.8933331966400146, val_acuraccy:0.7194444537162781\n",
      "epoch: 13: train_loss:0.3041564781839649, val_loss:2.6291282176971436, val_acuraccy:0.7333333492279053\n",
      "epoch: 14: train_loss:0.28929961286485195, val_loss:2.3921656608581543, val_acuraccy:0.7611111402511597\n",
      "epoch: 15: train_loss:0.2775311463822921, val_loss:2.0929434299468994, val_acuraccy:0.7805555462837219\n",
      "epoch: 16: train_loss:0.2659802835745116, val_loss:2.052509307861328, val_acuraccy:0.7861111164093018\n",
      "epoch: 17: train_loss:0.25635862816125154, val_loss:1.8641749620437622, val_acuraccy:0.8055555820465088\n",
      "epoch: 18: train_loss:0.24786210913831988, val_loss:1.6981457471847534, val_acuraccy:0.8166666626930237\n",
      "epoch: 19: train_loss:0.23839991757025322, val_loss:1.6246931552886963, val_acuraccy:0.8222222328186035\n",
      "epoch: 20: train_loss:0.2323160795494914, val_loss:1.5239053964614868, val_acuraccy:0.8277778029441833\n",
      "epoch: 21: train_loss:0.22514775348827243, val_loss:1.4619625806808472, val_acuraccy:0.8333333134651184\n",
      "epoch: 22: train_loss:0.21855181781575084, val_loss:1.3379408121109009, val_acuraccy:0.8361111283302307\n",
      "epoch: 23: train_loss:0.21380811758960286, val_loss:1.312345027923584, val_acuraccy:0.8500000238418579\n",
      "epoch: 24: train_loss:0.20829415072997412, val_loss:1.2662636041641235, val_acuraccy:0.8527777791023254\n",
      "epoch: 25: train_loss:0.20329474145546556, val_loss:1.2230005264282227, val_acuraccy:0.8611111044883728\n",
      "epoch: 26: train_loss:0.19905783895713589, val_loss:1.1854629516601562, val_acuraccy:0.8583333492279053\n",
      "epoch: 27: train_loss:0.19405233083913723, val_loss:1.15243661403656, val_acuraccy:0.8666666746139526\n",
      "epoch: 28: train_loss:0.19076139541963735, val_loss:1.1279364824295044, val_acuraccy:0.8638888597488403\n",
      "epoch: 29: train_loss:0.1860406642469267, val_loss:1.1299065351486206, val_acuraccy:0.8694444298744202\n",
      "epoch: 30: train_loss:0.18292168776194254, val_loss:1.0394247770309448, val_acuraccy:0.8805555701255798\n"
     ]
    }
   ],
   "source": [
    "# 5. for文で学習ループ作成\n",
    "for epoch in range(epochs):\n",
    "\n",
    "    shuffled_indcies = np.random.permutation(len(y_train))   # データのindexをシャッフル\n",
    "    running_loss = 0\n",
    "\n",
    "    for i in range(num_batches):\n",
    "\n",
    "        # mini-batch作成\n",
    "        start = i * batch_size\n",
    "        end = start + batch_size\n",
    "        batch_indices = shuffled_indcies[start:end]\n",
    "\n",
    "        # 6. 入力データxおよび教師ラベルのYを作成\n",
    "        y_true_ = y_train[batch_indices, :]\n",
    "        X = X_train[batch_indices, :]\n",
    "\n",
    "        #import pdb; pdb.set_trace()   # デバッカー（ここでコードを止めてくれる）\n",
    "\n",
    "        # 7. z計算\n",
    "        z = X @ W.T + b\n",
    "\n",
    "        # 8. softmaxで予測計算\n",
    "        y_pred = softmax(z)\n",
    "\n",
    "        # 9. 損失計算\n",
    "        loss = cross_entropy(y_true_, y_pred)\n",
    "        loss_log.append(loss.item())\n",
    "        running_loss += loss.item()\n",
    "\n",
    "        # 10. 勾配計算\n",
    "        loss.backward()\n",
    "\n",
    "        # 11. パラメータ更新\n",
    "        with torch.no_grad():\n",
    "            W -= learning_rate * W.grad\n",
    "            b -= learning_rate + b.grad\n",
    "        \n",
    "        # 12. 勾配初期化\n",
    "        W.grad.zero_()\n",
    "        b.grad.zero_()\n",
    "\n",
    "    # validation\n",
    "    with torch.no_grad():\n",
    "        z_val = X_val @ W.T + b\n",
    "        y_pred_val = softmax(z_val)\n",
    "\n",
    "        val_loss = cross_entropy(y_val, y_pred_val)\n",
    "        val_accuracy = torch.sum(torch.argmax(y_pred_val, dim=-1) == torch.argmax(y_val, dim=-1)) / y_val.shape[0]\n",
    "\n",
    "    train_losses.append(running_loss/num_batches)\n",
    "    val_losses.append(val_loss.item())\n",
    "    val_accuracies.append(val_accuracy.item())\n",
    "\n",
    "    \n",
    "    # 13. 損失ログ出力\n",
    "    print(f'epoch: {epoch+1}: train_loss:{running_loss/num_batches}, val_loss:{val_loss.item()}, val_acuraccy:{val_accuracy.item()}')"
   ]
  },
  {
   "cell_type": "code",
   "execution_count": 106,
   "metadata": {},
   "outputs": [
    {
     "data": {
      "image/png": "[encoded data removed]",
      "text/plain": [
       "<Figure size 640x480 with 1 Axes>"
      ]
     },
     "metadata": {},
     "output_type": "display_data"
    }
   ],
   "source": [
    "plt.plot(train_losses, label='train')\n",
    "plt.plot(val_losses, label='val')\n",
    "plt.xlabel('epoch')\n",
    "plt.ylabel('loss')\n",
    "plt.legend()\n",
    "plt.grid()"
   ]
  },
  {
   "cell_type": "code",
   "execution_count": null,
   "metadata": {},
   "outputs": [],
   "source": []
  }
 ],
 "metadata": {
  "kernelspec": {
   "display_name": "ds_conda_env",
   "language": "python",
   "name": "python3"
  },
  "language_info": {
   "codemirror_mode": {
    "name": "ipython",
    "version": 3
   },
   "file_extension": ".py",
   "mimetype": "text/x-python",
   "name": "python",
   "nbconvert_exporter": "python",
   "pygments_lexer": "ipython3",
   "version": "3.8.18"
  }
 },
 "nbformat": 4,
 "nbformat_minor": 2
}
